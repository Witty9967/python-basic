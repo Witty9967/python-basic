{
 "cells": [
  {
   "cell_type": "markdown",
   "metadata": {},
   "source": [
    "## 打招呼机器人\n",
    "* 提示用户输入姓名\n",
    "* 然后输出 Hi + 姓名"
   ]
  },
  {
   "cell_type": "code",
   "execution_count": 17,
   "metadata": {},
   "outputs": [
    {
     "name": "stdout",
     "output_type": "stream",
     "text": [
      "Hi, Witty\n",
      "Hi, Witty\n"
     ]
    }
   ],
   "source": [
    "name = input('Please input your name')\n",
    "print('Hi,', name)\n",
    "print('Hi, ' + name)"
   ]
  },
  {
   "cell_type": "markdown",
   "metadata": {},
   "source": [
    "## 邮件机器人\n",
    "* 假设计你是要给自动给客户发邮件的运营人员\n",
    "* 提示运营人员输入姓名 \n",
    "* 提示运营人输入购买的商品 \n",
    "* 输出邮件格式如下：\n",
    "\n",
    "Dear [用户姓名]:\n",
    "    \n",
    "    Your purchased product : [产品名] is delivered!\n",
    "    \n",
    "    Thanks for your choosing!\n",
    "    \n",
    "    "
   ]
  },
  {
   "cell_type": "code",
   "execution_count": 8,
   "metadata": {},
   "outputs": [
    {
     "name": "stdout",
     "output_type": "stream",
     "text": [
      "Dear, aa:\n",
      "Your purchased product: bb is delivered!\n",
      "Thanks for you choosing!\n",
      "\n"
     ]
    }
   ],
   "source": [
    "user_name = input('Please input your name: ')\n",
    "product_name = input('Please input your product name: ')\n",
    "# 1\n",
    "# print('Dear ',username, ':')\n",
    "# print('Your purchased product :',productname, 'is delivered!')\n",
    "# print('Thanks for your choosing!')\n",
    "# 2\n",
    "# email_templete=f'''\n",
    "# Dear {user_name}:\n",
    "# Your purchased product: {product_name} is delivered! \n",
    "# Thanks for you choosing!\n",
    "# '''\n",
    "# 3\n",
    "email_templete = '''Dear, %s:\n",
    "Your purchased product: %s is delivered!\n",
    "Thanks for you choosing!\n",
    "'''\n",
    "print(email_templete % (user_name,product_name))"
   ]
  },
  {
   "cell_type": "markdown",
   "metadata": {},
   "source": [
    "## 截取字符串\n",
    "从 \"You Rise Me Up\" 中截取 Rise"
   ]
  },
  {
   "cell_type": "code",
   "execution_count": 10,
   "metadata": {},
   "outputs": [
    {
     "name": "stdout",
     "output_type": "stream",
     "text": [
      " Rise\n"
     ]
    }
   ],
   "source": [
    "str = 'Your Rise Me Up'\n",
    "print(str[4:9])"
   ]
  },
  {
   "cell_type": "markdown",
   "metadata": {},
   "source": [
    "## 字符串大小写转换\n",
    "将 \"Python Basic\" 转成小写"
   ]
  },
  {
   "cell_type": "code",
   "execution_count": 11,
   "metadata": {},
   "outputs": [
    {
     "name": "stdout",
     "output_type": "stream",
     "text": [
      "python basic\n"
     ]
    }
   ],
   "source": [
    "str = 'Python Basic'\n",
    "low_str = str.lower()\n",
    "print(low_str)"
   ]
  },
  {
   "cell_type": "markdown",
   "metadata": {},
   "source": [
    "## 数值计算\n",
    "* 计算 1000 乘以 2000，再减 1000000\n",
    "* 打印出结果"
   ]
  },
  {
   "cell_type": "code",
   "execution_count": 15,
   "metadata": {},
   "outputs": [
    {
     "name": "stdout",
     "output_type": "stream",
     "text": [
      "1900000\n"
     ]
    }
   ],
   "source": [
    "# 1\n",
    "# num = 1000 * 2000 - 1000000\n",
    "# print(num)\n",
    "\n",
    "# 2\n",
    "a = 1000\n",
    "b = 2000\n",
    "c =  a * b\n",
    "num = c - 100000\n",
    "print(num)"
   ]
  },
  {
   "cell_type": "markdown",
   "metadata": {
    "ExecuteTime": {
     "end_time": "2020-07-13T09:01:18.014910Z",
     "start_time": "2020-07-13T09:01:18.011117Z"
    }
   },
   "source": [
    "## 变量类型 (附加题，不考)\n",
    "* 猜一下下面两行代码的执行结果：\n",
    "* print(type(100))\n",
    "* print(type(\"Hello\"))"
   ]
  },
  {
   "cell_type": "code",
   "execution_count": 13,
   "metadata": {},
   "outputs": [
    {
     "name": "stdout",
     "output_type": "stream",
     "text": [
      "<class 'int'>\n",
      "<class 'str'>\n"
     ]
    }
   ],
   "source": [
    "print(type(100))\n",
    "print(type('Hello'))"
   ]
  },
  {
   "cell_type": "markdown",
   "metadata": {},
   "source": [
    "\n",
    "1. Int\n",
    "2. String"
   ]
  },
  {
   "cell_type": "markdown",
   "metadata": {},
   "source": [
    "## Python 开发规范 (写最好代码，但不考）\n",
    "\n",
    "就像写邮件需要注意格式一样，写代码也需要注意格式和命名：\n",
    "\n",
    "https://blog.csdn.net/xufive/article/details/84957425\n"
   ]
  }
 ],
 "metadata": {
  "kernelspec": {
   "display_name": ".env",
   "language": "python",
   "name": "python3"
  },
  "language_info": {
   "codemirror_mode": {
    "name": "ipython",
    "version": 3
   },
   "file_extension": ".py",
   "mimetype": "text/x-python",
   "name": "python",
   "nbconvert_exporter": "python",
   "pygments_lexer": "ipython3",
   "version": "3.9.6"
  },
  "toc": {
   "base_numbering": 1,
   "nav_menu": {},
   "number_sections": true,
   "sideBar": true,
   "skip_h1_title": false,
   "title_cell": "Table of Contents",
   "title_sidebar": "Contents",
   "toc_cell": false,
   "toc_position": {},
   "toc_section_display": true,
   "toc_window_display": false
  },
  "varInspector": {
   "cols": {
    "lenName": 16,
    "lenType": 16,
    "lenVar": 40
   },
   "kernels_config": {
    "python": {
     "delete_cmd_postfix": "",
     "delete_cmd_prefix": "del ",
     "library": "var_list.py",
     "varRefreshCmd": "print(var_dic_list())"
    },
    "r": {
     "delete_cmd_postfix": ") ",
     "delete_cmd_prefix": "rm(",
     "library": "var_list.r",
     "varRefreshCmd": "cat(var_dic_list()) "
    }
   },
   "types_to_exclude": [
    "module",
    "function",
    "builtin_function_or_method",
    "instance",
    "_Feature"
   ],
   "window_display": false
  }
 },
 "nbformat": 4,
 "nbformat_minor": 4
}
