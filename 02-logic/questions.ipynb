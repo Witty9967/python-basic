{
 "cells": [
  {
   "cell_type": "markdown",
   "metadata": {},
   "source": [
    "# 1. 基础知识重复提醒\n",
    "\n",
    "有同学会问，不是上一章讲过这些吗？为什么要要重复提醒呢？\n",
    "\n",
    "是的，知识学习理解的过程是一个反复的过程，我们小时候第一次学习汉字时，基础字练了20次以上。\n",
    "\n",
    "对于 Python 这么一门语言的练习，基础知识的理解我建议要重复3次以上。\n",
    "\n",
    "老师把重要的基础知识重复出现3次，大家要把作业练习3次以上，老师推荐的各种链接多看一下。\n",
    "\n",
    "学习新知识时快就是慢，慢就是快！\n",
    "\n",
    "\n",
    "\n",
    "## 写代码报错了怎么办\n",
    "\n",
    "* [必看: Zane 老师整理了检查错误的方法](https://www.yinxiang.com/everhub/note/1e44d717-75c3-413d-83ad-5716126ccaa6)\n",
    "* [新人必看：17个新手常见Python运行时错误](https://www.oschina.net/question/89964_62779)\n",
    "\n",
    "\n",
    "## Python 各种基础知识\n",
    "\n",
    "* [Zane老师整理Python基础知识](https://www.yinxiang.com/everhub/note/414a0a33-7d28-4c27-af22-23f950b990fd)\n",
    "* [Python3基础教程](https://www.runoob.com/python3/python3-tutorial.html)\n",
    "* [Python 运算符](https://www.runoob.com/python/python-operators.html)\n",
    "\n",
    "## 新知识逻辑判断提醒\n",
    "\n",
    "* 逻辑判断对于没有程序基础的同学是一个难点；\n",
    "\n",
    "\n",
    "* 大家要尝试着把自己代入进去来理解，想像一下自己要控制一个机器人，要指挥它来干活，\n",
    "\n",
    "  你现在写的逻辑判断代码就是命令，告诉这个机器人要怎么样工作；\n",
    "  \n",
    "  \n",
    "* if/else/elif 这些指令要多练习，老师发的各种参考资料链接要多看，有问题要多问！\n",
    "\n",
    "## 什么是 Markdown(选学)\n",
    "\n",
    "学习了解 Markdown 可以让大家的代码也有漂亮的文字配合！\n",
    "\n",
    "* [Markdown 是什么](https://www.zhihu.com/question/19963642)\n",
    "\n"
   ]
  },
  {
   "cell_type": "markdown",
   "metadata": {},
   "source": [
    "# 2. 季节判断机器人\n",
    "---\n",
    "题目：\n",
    "\n",
    "* 在中国 1～3月为春季，4～6个月为夏季，7～9月为秋季，10～12月为冬季；\n",
    "* 提示用户输入一个月份（数字），然后输出是什么季节；\n",
    "* 如果用户输入 1～12 之外的数字，提示 \"机器故障\"。\n",
    "\n",
    "  备注：因为是学习的第二天，所以暂时让用户输入，以后可以直接读系统中的日期\n",
    "---\n",
    "重要知识点：\n",
    "\n",
    "* 每个条件后面要使用冒号 :，表示接下来是满足条件后要执行的语句块；\n",
    "* 使用缩进来划分语句块，相同缩进数的语句在一起组成一个语句块。\n",
    "\n",
    "---\n",
    "参考：\n",
    "* [Python3 input() 函数](https://www.runoob.com/python3/python3-func-input.html)\n",
    "* [Python3 条件控制](https://www.runoob.com/python3/python3-conditional-statements.html)\n",
    "* [Python 运算符](https://www.runoob.com/python/python-operators.html)\n",
    "\n"
   ]
  },
  {
   "cell_type": "markdown",
   "metadata": {},
   "source": [
    "## 解法1\n",
    "\n",
    "\n",
    "* 使用 input 函数提示用户输入现在是几月\n",
    "\n",
    "  注意：input 函数返回的的字符串\n",
    "  \n",
    "* 将输入的值用 int 函数转成数字，把转换后的值放到 month；\n",
    "\n",
    "* 首先通  month<1 or month>12 来排除掉所有的异常值；\n",
    "\n",
    "* 通过 if/elif 来分别判断 month 是在春夏秋冬的哪一季；\n",
    "\n",
    "* 我们判断 month 时使用了 小于等于(<=), 同时把  month 放在中间；\n",
    "\n",
    "  1<=month<= 3, 意示着 month大于等于1，而且小于等于3，这就是春季\n",
    "\n",
    "\n",
    "* 最后执行到 else 时，表示这一次用户输入的异常数据\n",
    "\n",
    "  则告诉用户 \"机器故障\"\n",
    "\n",
    "\n",
    "* 把异常情况的处理放到最后面的 else 一种常见的写法，这样写起大家容易理解\n",
    "\n",
    "  但是不足的地方是代码会不够高效，要多写不少代码！"
   ]
  },
  {
   "cell_type": "code",
   "execution_count": 5,
   "metadata": {
    "ExecuteTime": {
     "end_time": "2020-09-15T07:20:56.871197Z",
     "start_time": "2020-09-15T07:20:52.153375Z"
    }
   },
   "outputs": [
    {
     "name": "stdout",
     "output_type": "stream",
     "text": [
      "春季\n"
     ]
    }
   ],
   "source": [
    "month = int(input('Please input the month: '))\n",
    "if 1<=month<=3:\n",
    "    print('春季')\n",
    "elif 4<=month<=6: \n",
    "    print('夏季')\n",
    "elif 7<=month<=9:\n",
    "    print('秋季')\n",
    "elif 10<=month<=12:\n",
    "    print('冬季')\n",
    "else:\n",
    "    print('机器故障！')"
   ]
  },
  {
   "cell_type": "markdown",
   "metadata": {},
   "source": [
    "## 解法2\n",
    "\n",
    "* 使用 input 函数提示用户输入现在是几月\n",
    "\n",
    "  注意：input 函数返回的的字符串\n",
    "  \n",
    "* 将输入的值用 int 函数转成数字，把转换后的值放到 month\n",
    "\n",
    "* 首先通  month<1 or month>12 来排除掉所有的异常值\n",
    "\n",
    "  or 是一个“或”条件，在这里表示 month 小于1，或者 month 大于12都是异常数据\n",
    "  \n",
    "  如是异常数据，则告诉用户 \"机器故障\"\n",
    "  \n",
    "* 再通过 if/elif 组合来判断用户输入的现在是几月，告诉用户现在是哪一季 \n",
    "\n",
    "  因为前面把异常数据排除了，\n",
    "  \n",
    "  所以可以直接通过 month 小于等于 3 判断知道现在是春季， month 小于等于 6 判断知道现在是夏季，以此类推\n",
    "  \n",
    "  \n",
    "* 先处理异常情况是程序老手的一种常见做法，也是我推荐的作法\n",
    "\n",
    "  先把异常数据全部处理完后，后面的条件逻辑判断会简单很多\n",
    "  \n",
    "  大家可以把解法1/解法2进行对比，自己反复打几次来体会一下"
   ]
  },
  {
   "cell_type": "code",
   "execution_count": 12,
   "metadata": {
    "ExecuteTime": {
     "end_time": "2020-09-15T07:20:58.738996Z",
     "start_time": "2020-09-15T07:20:56.873725Z"
    }
   },
   "outputs": [
    {
     "name": "stdout",
     "output_type": "stream",
     "text": [
      "系统故障\n"
     ]
    }
   ],
   "source": [
    "month=int(input('Please input the month: '))\n",
    "if month < 1 or month > 12:\n",
    "    print('系统故障')\n",
    "elif month < 4:\n",
    "    print('春季')\n",
    "elif month < 7:\n",
    "    print('夏季')\n",
    "elif month < 10:\n",
    "    print('秋季')\n",
    "else:\n",
    "    print('冬季')"
   ]
  },
  {
   "cell_type": "markdown",
   "metadata": {},
   "source": [
    "## 解法3\n",
    "\n",
    "* 使用 input 函数提示用户输入现在是几月\n",
    "\n",
    "  注意：input 函数返回的的字符串\n",
    "  \n",
    "* 将输入的值用 int 函数转成数字，把转换后的值放到 month\n",
    "\n",
    "* 通过 if/elif 来分别判断 month 是在春夏秋冬的哪一季\n",
    "\n",
    "* 我们判断 month 时使用了 大于等于(>=) 和 小于等于(<=), 同时还使用了 and 条件\n",
    "\n",
    "  month>=1 and month<=3, 意示着 month大于等于1，而且小于等于3，这就是春季\n",
    "\n",
    "\n",
    "* 最后执行到 else 时，表示，这一次用户输入的异常数据\n",
    "\n",
    "  则告诉用户 \"机器故障\"\n",
    "\n",
    "\n",
    "* 把异常情况的处理放到最后面的 else 一种常见的写法，这样写起大家容易理解\n",
    "\n",
    "  但是不足的地方是代码会不够高效，要多写不少代码！\n",
    "\n",
    "\n",
    "* 这里和解法1基本一致，但是新使用了 and, >=   "
   ]
  },
  {
   "cell_type": "code",
   "execution_count": 19,
   "metadata": {
    "ExecuteTime": {
     "end_time": "2020-09-15T07:20:59.832765Z",
     "start_time": "2020-09-15T07:20:58.741537Z"
    }
   },
   "outputs": [
    {
     "name": "stdout",
     "output_type": "stream",
     "text": [
      "夏季\n"
     ]
    }
   ],
   "source": [
    "month = int(input('Please input the month: '))\n",
    "if 1<=month and month<=3:\n",
    "    print('春季')\n",
    "elif 4<=month and month<=6: \n",
    "    print('夏季')\n",
    "elif 7<=month and month<=9:\n",
    "    print('秋季')\n",
    "elif 10<=month and month<=12:\n",
    "    print('冬季')\n",
    "else:\n",
    "    print('机器故障！')\n"
   ]
  },
  {
   "cell_type": "markdown",
   "metadata": {},
   "source": [
    "# 3. 价格预警机器人\n",
    "* 假设你要监控  A,B,C 三个商品\n",
    "* 如果 A/B/C 分别降价 30/20/10 元上，就要报警\n",
    "* 提示用户输入商品名（A/B/C)\n",
    "* 提示用户输入降价值 (数字）\n",
    "* 如果需要报警则打印商品名 + 降价值\n"
   ]
  },
  {
   "cell_type": "markdown",
   "metadata": {},
   "source": [
    "## 解法1\n",
    "\n",
    "\n",
    "* 使用 input 函数提示用户输入商品名, 放到 product 中\n",
    "\n",
    "  注意 product 是我们设定的一个变量名，我们也可以起一个别的名字，比如叫 name\n",
    "  \n",
    "* 使用 input 函数提示用户输入降价值, 再用 int 函数将其转换成数字后放到 lower_price 中\n",
    "\n",
    "  注意 lower_price 是我们设定的一个变量名，我们也可以起一个别的名字，比如叫 jiangjia (虽然这不是一个好名字）\n",
    "\n",
    "* 先判断是否 product==\"A\" 并且 lower_price > 30, 那么就提示 A 商品的降价幅度\n",
    "\n",
    "* 再判断是否 product==\"B\" 并且 lower_price > 20 , 那么就提示 B 商品的降价幅度\n",
    "\n",
    "* 再判断是否 product==\"C\" 并且 lower_price > 10, 那么就提示 C 商品的降价幅度\n",
    "\n",
    "* 最后如果前面的三个条件都不满足，就输出 \"No Alert!\"\n",
    "\n",
    "* 大家好好理解 if/elif/else 的层次递进关系"
   ]
  },
  {
   "cell_type": "code",
   "execution_count": 25,
   "metadata": {
    "ExecuteTime": {
     "end_time": "2020-09-15T07:21:05.254821Z",
     "start_time": "2020-09-15T07:20:59.835292Z"
    }
   },
   "outputs": [
    {
     "name": "stdout",
     "output_type": "stream",
     "text": [
      "Not aleat\n"
     ]
    }
   ],
   "source": [
    "\n",
    "commodity = input('Please choose the commodity[A: 100, B: 90, C:80]')\n",
    "sales = int(input('Please input the reduce price'))\n",
    "if commodity == 'A' and sales > 30:\n",
    "    print('Alert: ', commodity, sales)\n",
    "elif commodity == 'B' and sales >20:\n",
    "    print('Alert: ', commodity, sales)\n",
    "elif commodity == 'C' and sales > 10:\n",
    "    print('Alert: ', commodity, sales)\n",
    "else:\n",
    "    print('Not aleat')"
   ]
  },
  {
   "cell_type": "markdown",
   "metadata": {},
   "source": [
    "## 解法2\n",
    "\n",
    "---\n",
    "改进点：\n",
    "\n",
    "大家是否发现下面这句话重复了3次：\n",
    "\n",
    "    print(\"[Alert] Product %s, lower_price %d\" % (product,lower_price))\n",
    "\n",
    "所以们使用了 or 条件语句把对 A/B/C 三个商品的条件判断联接起来，最后一起调用了这条语言\n",
    "\n",
    "因为 print 输出的警告信息是使用 \"%\" 和变量进行自动拼接出来的，所不管是哪个商品警告都能复用\n",
    "\n",
    "大家写代码时一定要反复思考，不但是让写的代码能正常执行，也能很简洁优雅，让代码可以复用！\n",
    "\n",
    "---\n",
    "\n",
    "* 使用 input 函数提示用户输入商品名, 放到 product 中\n",
    "\n",
    "  注意 product 是我们设定的一个变量名，我们也可以起一个别的名字，比如叫 name\n",
    "  \n",
    "* 使用 input 函数提示用户输入降价值, 再用 int 函数将其转换成数字后放到 lower_price 中\n",
    "\n",
    "  注意 lower_price 是我们设定的一个变量名，我们也可以起一个别的名字，比如叫 jiangjia (虽然这不是一个好名字）\n",
    "\n",
    "* 先判断是否 (product==\"A\" 并且 lower_price > 30) 或\n",
    "           (product==\"B\" 并且 lower_price > 20) 或\n",
    "           (product==\"C\" 并且 lower_price > 10) \n",
    "\n",
    "   如果3者中有一个条件满足了，就提示相应的商品及降价幅度\n",
    "   \n",
    "\n",
    "* 最后如果前面的三个条件都不满足，就输出 \"No Alert!\"\n",
    "\n",
    "\n",
    "* 这里使用 if/else\n"
   ]
  },
  {
   "cell_type": "code",
   "execution_count": 29,
   "metadata": {
    "ExecuteTime": {
     "end_time": "2020-09-15T07:21:09.261330Z",
     "start_time": "2020-09-15T07:21:05.256783Z"
    }
   },
   "outputs": [
    {
     "name": "stdout",
     "output_type": "stream",
     "text": [
      "Alert:  B 30\n"
     ]
    }
   ],
   "source": [
    "commodity = input('Please choose the commodity[A: 100, B: 90, C:80]')\n",
    "sales = int(input('Please input the reduce price'))\n",
    "if (commodity == 'A' and sales>30) or(commodity == 'B' and sales >20) or (commodity == 'C' and sales > 10) :\n",
    "    print('Alert: ', commodity, sales)\n",
    "else:\n",
    "    print('Not aleat')"
   ]
  },
  {
   "cell_type": "markdown",
   "metadata": {},
   "source": [
    "# 4. 考试评语机器人\n",
    "\n",
    "---\n",
    "题目：\n",
    "\n",
    "* 假设你现在是考试院的老师，在看试卷，要打评语\n",
    "* 提示用户输出考试分数（数字），分数范围是0 ~ 100 分\n",
    "* 如果输入值小于 60 分，则打印 \"要加油呀!\"\n",
    "* 如果输入值大于等于 60 分，且小于 80分，则打印 \"不错呀，认真学习了！\"\n",
    "* 如果输入值大于等于 80 分，则打印 \"考得不错，不要骄傲！\"\n",
    "* 不在 0～100 分范围内的输入，我不需要打印任何信息\n",
    "\n",
    "  备注：因为是学习的第二天，所以暂时让用户输入，以后可以直接读取成绩表，直接出评语\n",
    "  \n",
    "---\n",
    "解题讲解：\n",
    "\n",
    "此题为2，3题的变体，故不再专门解释！\n",
    "\n",
    "* 特别注意的是，本题不需要使用 else\n",
    "* 在 if/elif 的组合里要考虑用户输入值不在 0~100 的情况"
   ]
  },
  {
   "cell_type": "code",
   "execution_count": 36,
   "metadata": {
    "ExecuteTime": {
     "end_time": "2020-09-15T07:21:11.450273Z",
     "start_time": "2020-09-15T07:21:09.263112Z"
    }
   },
   "outputs": [
    {
     "name": "stdout",
     "output_type": "stream",
     "text": [
      "考了59分，要加油呀！\n"
     ]
    }
   ],
   "source": [
    "score = int(input('Please input your score: ')) \n",
    "if score < 0 or score > 100:\n",
    "    pass\n",
    "elif score< 60:\n",
    "    print(f'考了{score}分，要加油呀！')\n",
    "elif score <80:\n",
    "    print(f'考了{score}分,不错呀，认真学习了！')\n",
    "elif score <=100:\n",
    "    print(f'考了{score}分,考的不错，不要骄傲！')"
   ]
  },
  {
   "cell_type": "markdown",
   "metadata": {},
   "source": [
    "# 5. 智能空调机器人\n",
    "\n",
    "---\n",
    "题目：\n",
    "\n",
    "* 假设你现在设计一台智能空调\n",
    "* 提示用户输入季节（只能是 winter/summer)\n",
    "* 提示用户输入当前温度 (数字）\n",
    "* 如果季节是 winter， 且温度低于10度，则打印 \"太冷了，开热空调了\"\n",
    "* 如果季节是 summer， 且温度高于27度，则打印 \"太热了，开冷空调了\"\n",
    "* 如果是不符合上面条件的用户输入，则不用打印任何东西\n",
    "\n",
    "  备注：因为是学习的第二天，所以暂时让用户输入，以后可以接外部温度电子器直接读\n",
    "  \n",
    "---\n",
    "解题讲解：\n",
    "\n",
    "此题为2，3题的变体，故不再专门解释！\n",
    "\n",
    "特别注意的是，本题不需要使用 else"
   ]
  },
  {
   "cell_type": "code",
   "execution_count": 39,
   "metadata": {
    "ExecuteTime": {
     "end_time": "2020-09-15T07:21:16.073203Z",
     "start_time": "2020-09-15T07:21:11.452151Z"
    }
   },
   "outputs": [
    {
     "name": "stdout",
     "output_type": "stream",
     "text": [
      "太热了，开冷空调了\n"
     ]
    }
   ],
   "source": [
    "season = input('请输入季节:【winter or summer】 ')\n",
    "temperature = int(input('请输入今天的温度：'))\n",
    "if season == 'winter' and temperature < 10:\n",
    "    print('太冷了，开热空调了')\n",
    "if season == 'summer' and temperature > 27:\n",
    "    print('太热了，开冷空调了')\n",
    "\n"
   ]
  },
  {
   "cell_type": "markdown",
   "metadata": {
    "ExecuteTime": {
     "end_time": "2020-09-15T07:26:43.137544Z",
     "start_time": "2020-09-15T07:26:43.134738Z"
    }
   },
   "source": [
    "# 6. 致谢！\n",
    "\n",
    "本章内容由 Miles/Zane 评审，在此致谢！"
   ]
  }
 ],
 "metadata": {
  "kernelspec": {
   "display_name": ".env",
   "language": "python",
   "name": "python3"
  },
  "language_info": {
   "codemirror_mode": {
    "name": "ipython",
    "version": 3
   },
   "file_extension": ".py",
   "mimetype": "text/x-python",
   "name": "python",
   "nbconvert_exporter": "python",
   "pygments_lexer": "ipython3",
   "version": "3.9.6"
  },
  "toc": {
   "base_numbering": 1,
   "nav_menu": {},
   "number_sections": true,
   "sideBar": true,
   "skip_h1_title": false,
   "title_cell": "Table of Contents",
   "title_sidebar": "Contents",
   "toc_cell": false,
   "toc_position": {
    "height": "calc(100% - 180px)",
    "left": "10px",
    "top": "150px",
    "width": "358.391px"
   },
   "toc_section_display": true,
   "toc_window_display": true
  },
  "varInspector": {
   "cols": {
    "lenName": 16,
    "lenType": 16,
    "lenVar": 40
   },
   "kernels_config": {
    "python": {
     "delete_cmd_postfix": "",
     "delete_cmd_prefix": "del ",
     "library": "var_list.py",
     "varRefreshCmd": "print(var_dic_list())"
    },
    "r": {
     "delete_cmd_postfix": ") ",
     "delete_cmd_prefix": "rm(",
     "library": "var_list.r",
     "varRefreshCmd": "cat(var_dic_list()) "
    }
   },
   "types_to_exclude": [
    "module",
    "function",
    "builtin_function_or_method",
    "instance",
    "_Feature"
   ],
   "window_display": false
  }
 },
 "nbformat": 4,
 "nbformat_minor": 4
}
