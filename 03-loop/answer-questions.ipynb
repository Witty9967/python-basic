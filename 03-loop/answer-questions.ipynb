{
 "cells": [
  {
   "cell_type": "markdown",
   "metadata": {},
   "source": [
    "# 1. 基础知识重复提醒\n",
    "\n",
    "有同学会问，不是上一章讲过这些吗？为什么要要重复提醒呢？\n",
    "\n",
    "是的，知识学习理解的过程是一个反复的过程，我们小时候第一次学习汉字时，基础字练了20次以上。\n",
    "\n",
    "对于 Python 这么一门语言的练习，基础知识的理解我建议要重复3次以上。\n",
    "\n",
    "老师把重要的基础知识重复出现3次，大家要把作业练习3次以上，老师推荐的各种链接多看一下。\n",
    "\n",
    "学习新知识时快就是慢，慢就是快！\n",
    "\n",
    "大家不但要做我们习题集上的题目，也要练习书上的例题，练习越多理解越深！\n",
    "\n",
    "## 新知识“循环遍历”的提醒\n",
    "\n",
    "如果想让重复工作自动化，必须要学好循环;\n",
    "\n",
    "你可以想像重复的工作，就像一个“列表”,   用循环处理1个任务和处理10000个任务本质上是一样的：\n",
    "\n",
    "\n",
    "## 写代码报错了怎么办\n",
    "\n",
    "学习了怎么看错误信息，学会了怎么 Google/Baidu查找出错信息，就掌握了最重要的一门程序技能；\n",
    "\n",
    "有人说学会这两项，就等于半个初级程序员了；学习 Python不是为学习一个固定的知识，而是为了学习解决问题的方法。\n",
    "\n",
    "* [必看: Zane 老师整理了检查错误的方法](https://www.yinxiang.com/everhub/note/1e44d717-75c3-413d-83ad-5716126ccaa6)\n",
    "* [新人必看：17个新手常见Python运行时错误](https://www.oschina.net/question/89964_62779)\n",
    "\n",
    "\n",
    "## Python 各种基础知识\n",
    "\n",
    "* [Zane老师整理Python基础知识](https://www.yinxiang.com/everhub/note/414a0a33-7d28-4c27-af22-23f950b990fd)\n",
    "* [Python3基础教程](https://www.runoob.com/python3/python3-tutorial.html)\n",
    "* [Python 运算符](https://www.runoob.com/python/python-operators.html)\n",
    "* [Python3 条件控制](https://www.runoob.com/python3/python3-conditional-statements.html)\n",
    "* [Python3 循环语句](https://www.runoob.com/python3/python3-loop.html)\n",
    "* [Python range() 函数用法](https://www.runoob.com/python/python-func-range.html)\n",
    "* [Python continue 语句](https://www.runoob.com/python/python-continue-statement.html) 详解\n",
    "* [Python While 循环语句](https://www.runoob.com/python/python-while-loop.html)\n",
    "* [Python break 语句](https://www.runoob.com/python/python-break-statement.html)\n",
    "* [Python for 循环语句](https://www.runoob.com/python/python-for-loop.html)\n",
    "\n",
    "## 什么是 Markdown(选学)\n",
    "\n",
    "学习了解 Markdown 可以让大家的代码也有漂亮的文字配合！\n",
    "\n",
    "* [Markdown 是什么](https://www.zhihu.com/question/19963642)"
   ]
  },
  {
   "cell_type": "markdown",
   "metadata": {
    "ExecuteTime": {
     "end_time": "2020-07-14T02:02:24.191336Z",
     "start_time": "2020-07-14T02:02:24.188124Z"
    }
   },
   "source": [
    "# 2. 智能日历第一步，打印12个月\n",
    "---\n",
    "题目：\n",
    "\n",
    "* 你是智能日历的程序员\n",
    "* 请打印出 1～12月，每月一行\n",
    "\n",
    "---\n",
    "参考：\n",
    "\n",
    "* [Python3 循环语句](https://www.runoob.com/python3/python3-loop.html)\n",
    "* [python3——for循环](https://blog.csdn.net/brent_xy/article/details/79648622)\n",
    "* [Python3 字符串](https://www.runoob.com/python3/python3-string.html)\n",
    "* [Python str() 函数](https://www.w3school.com.cn/python/ref_func_str.asp)\n",
    "* [Python range() 函数用法](https://www.runoob.com/python/python-func-range.html)"
   ]
  },
  {
   "cell_type": "markdown",
   "metadata": {
    "ExecuteTime": {
     "end_time": "2020-09-15T09:44:25.819030Z",
     "start_time": "2020-09-15T09:44:25.815128Z"
    }
   },
   "source": [
    "## 解法1\n",
    "\n",
    "* 使用 range() 生成 1～12 的数字集\n",
    "  \n",
    "  range(x,y)  表示生成大于等于x，小于y的所有数字，所以不包括y\n",
    "\n",
    "  大家可以执行: print(list(range(1,4)), 你会看到 [1,2,3]\n",
    "  \n",
    "  补充：list函数 是让 range() 生成的数据集变成一个列表，可以被打印出来\n",
    "  \n",
    "  \n",
    "* 使用 for 循环遍历数字集，将遍历的内容放到 i\n",
    "\n",
    "  使用 \"%\" 拼接符，联合 \"%d月\", i ; 拼出 \"x月\"这个格式，并输出\n",
    "\n",
    "  %d 表示接收的是一个整数参数\n",
    "  \n",
    "  如果大家记不熟可以参考 [Python3 字符串](https://www.runoob.com/python3/python3-string.html)"
   ]
  },
  {
   "cell_type": "code",
   "execution_count": null,
   "metadata": {
    "ExecuteTime": {
     "end_time": "2020-07-14T02:03:21.498180Z",
     "start_time": "2020-07-14T02:03:21.495062Z"
    }
   },
   "outputs": [],
   "source": [
    "\n",
    "for i in range(1,13):\n",
    "    print(\"%d月\" % i)"
   ]
  },
  {
   "cell_type": "markdown",
   "metadata": {},
   "source": [
    "## 解法2\n",
    "\n",
    "* 使用 range() 生成 1～12 的数字集\n",
    "\n",
    "  range(x,y)  表示生成大于等于x，小于y的所有数字，所以不包括y\n",
    "  \n",
    "\n",
    "* 使用 for 循环遍历数字集，将遍历的内容放到 i\n",
    "\n",
    "  用 str 函数将 i 转为字符串，并且用 \"+\" 和 \"月\" 进行拼接并输出 ，，并输出\n",
    "\n",
    "  如果大家记不熟可以参考 [Python str() 函数](https://www.w3school.com.cn/python/ref_func_str.asp)"
   ]
  },
  {
   "cell_type": "code",
   "execution_count": null,
   "metadata": {
    "ExecuteTime": {
     "end_time": "2020-07-14T02:03:45.652068Z",
     "start_time": "2020-07-14T02:03:45.648374Z"
    }
   },
   "outputs": [],
   "source": [
    "for i in range(1,13):\n",
    "    print(str(i) + \"月\")"
   ]
  },
  {
   "cell_type": "markdown",
   "metadata": {
    "ExecuteTime": {
     "end_time": "2020-07-14T01:56:51.654168Z",
     "start_time": "2020-07-14T01:56:51.651909Z"
    }
   },
   "source": [
    "# 3. 用 for 循环计算1到4的连乘\n",
    "---\n",
    "题目解析:\n",
    "\n",
    "* 在 Python 中，乘法符号是 *\n",
    "* 最笨的办法是 1 乘 2 乘 3 乘 4 \n",
    "* 但是如果要 1 ～ 10000 的连乘你就傻眼了所以我们使 for 循环\n",
    "\n",
    "---\n",
    "解题步骤:\n",
    "\n",
    "* 先将变量 total 赋值为 1： total = 1\n",
    "\n",
    "  total 用来存连乘结果的变量，为了方便使用，我把 total初始化设为1\n",
    "  \n",
    "  \n",
    "* 使用 range() 生成 1～4 的数字集\n",
    "\n",
    "  range(x,y)  表示生成大于等于x，小于y的所有数字，所以不包括y\n",
    "\n",
    "\n",
    "* 使用 for 循环遍历数字集，将遍历的内容放到 i\n",
    "\n",
    "    用 total 去乘 i, 然后再将结果放到 total\n",
    "\n",
    "    这样就中就可以实现连乘的效果\n",
    "      \n",
    "      \n",
    "* 为了方便大家理解，我在每次循环的过程中，都用使用 print 输出 i, total 的值 \n",
    "\n",
    "  方便大家理解 for 循环\n",
    "\n",
    "---\n",
    "备注：\n",
    "\n",
    "* 循环是非常重要的计算机概念，我一再反复强调，只有理解了它，你才把Python当机器人用\n",
    "\n",
    "\n",
    "* 不能光看老师的讲解，外部的也要看：[Python for 循环语句](https://www.runoob.com/python/python-for-loop.html)\n"
   ]
  },
  {
   "cell_type": "code",
   "execution_count": 1,
   "metadata": {
    "ExecuteTime": {
     "end_time": "2020-09-16T02:54:43.089949Z",
     "start_time": "2020-09-16T02:54:43.086482Z"
    }
   },
   "outputs": [
    {
     "name": "stdout",
     "output_type": "stream",
     "text": [
      ">> For循环运算后: i:1, total:1\n",
      ">> For循环运算后: i:2, total:2\n",
      ">> For循环运算后: i:3, total:6\n",
      ">> For循环运算后: i:4, total:24\n",
      "连乘结果: 24\n"
     ]
    }
   ],
   "source": [
    "total = 1\n",
    "for i in range(1,5):\n",
    "    #print(\">> For循环运算前: i:%d, total:%d\" % (i,total))\n",
    "    total = total * i\n",
    "    print(\">> For循环运算后: i:%d, total:%d\" % (i,total))\n",
    "\n",
    "print(\"连乘结果:\",total)"
   ]
  },
  {
   "cell_type": "markdown",
   "metadata": {
    "ExecuteTime": {
     "end_time": "2020-07-14T01:57:33.064096Z",
     "start_time": "2020-07-14T01:57:33.061852Z"
    }
   },
   "source": [
    "# 4. 用 for 循环打印 \"Good Day!\" 里的每个字符\n",
    "---\n",
    "题目解析:\n",
    "\n",
    "* \"Good Day!\" 是一个字符串\n",
    "* 我们可以用 for 循环来遍历访问它\n",
    "\n",
    "---\n",
    "解题步骤:\n",
    "\n",
    "\n",
    "\n",
    "* 使用 for 循环遍历 title，将遍历的内容放到 char\n",
    "\n",
    "  再在循环体中输出 char\n",
    "           \n",
    "---\n",
    "备注：\n",
    "\n",
    "* 循环是非常重要的计算机概念，我一再反复强调，只有理解了它，你才把Python当机器人用\n",
    "\n",
    "* 不能光看老师的讲解，外部的也要看：[Python for 循环语句](https://www.runoob.com/python/python-for-loop.html)\n",
    "\n",
    "  这里面有很多例子，大家可以拿出来运行，举一反三"
   ]
  },
  {
   "cell_type": "code",
   "execution_count": 2,
   "metadata": {
    "ExecuteTime": {
     "end_time": "2020-07-14T02:05:46.643010Z",
     "start_time": "2020-07-14T02:05:46.629372Z"
    }
   },
   "outputs": [
    {
     "name": "stdout",
     "output_type": "stream",
     "text": [
      "G\n",
      "o\n",
      "o\n",
      "d\n",
      " \n",
      "D\n",
      "a\n",
      "y\n",
      "!\n"
     ]
    }
   ],
   "source": [
    "title = \"Good Day!\"\n",
    "for char in title:\n",
    "    print(char)"
   ]
  },
  {
   "cell_type": "markdown",
   "metadata": {
    "ExecuteTime": {
     "end_time": "2020-07-14T01:58:27.543099Z",
     "start_time": "2020-07-14T01:58:27.540843Z"
    }
   },
   "source": [
    "# 5. for 循环打印出所有 1~50 之间的所有偶数\n"
   ]
  },
  {
   "cell_type": "markdown",
   "metadata": {},
   "source": [
    "## 解法1\n",
    "---\n",
    "题目解析:\n",
    "\n",
    "* 在 Python 中，% 表示取模 - 返回除法的余数， \n",
    "\n",
    "  i % 2 == 0 表示 i除2的余数为0，也就是表明i为偶数\n",
    "\n",
    "---\n",
    "解题步骤:\n",
    "\n",
    "\n",
    "* 使用 range() 生成 0～50 的数字集\n",
    "\n",
    "  range(x,y)  表示生成大于等于x，小于y的所有数字，所以不包括y\n",
    "\n",
    "  大家可以执行: print(list(range(1,4)), 你会看到 [1,2,3]\n",
    "  \n",
    "  补充：list函数 是让 range() 生成的数据集变成一个列表，可以被打印出来  \n",
    "\n",
    "* 使用 for 循环遍历数字集，将遍历的内容放到 i\n",
    "\n",
    "  使用 % 取模操作符，判断i是否为偶数，如果是就用 print 打印出来\n",
    "\n",
    "---\n",
    "参考备注：\n",
    "\n",
    "* 这道题综合了 for 循环和 if 逻辑判断，是一道综合应用题，方便大家加深对历史知识的理解！\n",
    "\n",
    "\n",
    "* 不能光看老师的讲解，外部的也要看：[Python for 循环语句](https://www.runoob.com/python/python-for-loop.html)\n",
    "\n",
    "\n",
    "* [Python算术运算符](https://www.runoob.com/python/python-operators.html) 详解"
   ]
  },
  {
   "cell_type": "code",
   "execution_count": null,
   "metadata": {
    "ExecuteTime": {
     "end_time": "2020-07-14T02:06:20.403775Z",
     "start_time": "2020-07-14T02:06:20.400623Z"
    }
   },
   "outputs": [],
   "source": [
    "for i in range(0,51):\n",
    "    if i%2 == 0:\n",
    "        print(i)"
   ]
  },
  {
   "cell_type": "markdown",
   "metadata": {},
   "source": [
    "## 解法2\n",
    "\n",
    "---\n",
    "题目解析:\n",
    "\n",
    "* 在 Python 中，range 的第3个参数表示 \"步长\"，默认为1\n",
    "\n",
    "  range(0,5) 会生成 [0,1,2,3,4]\n",
    "  \n",
    "  range(0,5,2) 则会生成 [0,2,4], 因为它的步长变成了2\n",
    "  \n",
    "  这样也方便我们自动生成某一段范围内的偶数\n",
    "\n",
    "---\n",
    "\n",
    "解题步骤:\n",
    "\n",
    "\n",
    "* 使用 range() 生成 0～50 的偶数\n",
    "\n",
    "  range(0,51,2) 表示从0开始，到50为止，步长为2生成数据集\n",
    "  \n",
    "  因为步长为2，所以生成的数据集都是偶数\n",
    "\n",
    "* 再使用 for 循环遍历数据集，并打印输出  \n",
    "\n",
    "---\n",
    "参考备注：\n",
    "\n",
    "* 这道题综合了 for 循环和 if 逻辑判断，是一道综合应用题，方便大家加深对历史知识的理解！\n",
    "\n",
    "* 不能光看老师的讲解，外部的也要看：[Python for 循环语句](https://www.runoob.com/python/python-for-loop.html)\n",
    "\n",
    "* 再温习一下 [Python range() 函数用法](https://www.runoob.com/python/python-func-range.html)\n"
   ]
  },
  {
   "cell_type": "code",
   "execution_count": null,
   "metadata": {
    "ExecuteTime": {
     "end_time": "2020-09-16T03:24:19.203031Z",
     "start_time": "2020-09-16T03:24:19.199317Z"
    }
   },
   "outputs": [],
   "source": [
    "for i in range(0,51,2):\n",
    "    print(i)"
   ]
  },
  {
   "cell_type": "code",
   "execution_count": null,
   "metadata": {
    "ExecuteTime": {
     "end_time": "2020-09-16T03:33:03.268983Z",
     "start_time": "2020-09-16T03:33:03.265051Z"
    }
   },
   "outputs": [],
   "source": [
    "list(range(0,5,2))"
   ]
  },
  {
   "cell_type": "markdown",
   "metadata": {},
   "source": [
    "# 6. PM自动找差评\n",
    "---\n",
    "题目：\n",
    "\n",
    "* 程序员把产品星级放入一个列表 [3,5,4,2,1,5,5]\n",
    "* 请把所有小于4的评分打印出来\n",
    "\n",
    "  请在 for 循环里跳过所有大于等于4星的星级（用 continue)\n",
    "\n",
    "---\n",
    "题目解析:\n",
    "\n",
    "* [3,5,4,2,1,5,5] 是一个列表，可以用 for 循环遍历\n",
    "\n",
    "* continue 是用来跳过一次 for/whie 循环\n",
    "\n",
    "* star 星级大于等于4，就不是差评，可以跳过不处理\n",
    "\n",
    "---\n",
    "解题步骤:\n",
    "\n",
    "* stars 是一个列表（你可以理解为一个袋子），里面存了所有产品的星级\n",
    "\n",
    "  \n",
    "* 使用 for 循环遍历 stars，将遍历的内容放到变量中 star\n",
    "\n",
    "  注意： stars/star 是我们设定的一个变量名，我们也可以起一个别的名字，比如叫 xingji(虽然这个名字并不好）\n",
    "\n",
    "  使用 if 检查 star 是否大于等 4，如果条件满足就使用 continue 跳过\n",
    "  \n",
    "  没有跳过的情况，就打印输出 star\n",
    "\n",
    "---\n",
    "参考备注：\n",
    "\n",
    "* 这道题综合了 for 循环和 if 逻辑判断和 continue跳过，是一道综合应用题，方便大家加深对历史知识的理解！\n",
    "\n",
    "* [Python continue 语句](https://www.runoob.com/python/python-continue-statement.html) 详解\n",
    "\n",
    "* 再温习一下：[Python for 循环语句](https://www.runoob.com/python/python-for-loop.html)\n",
    "\n"
   ]
  },
  {
   "cell_type": "code",
   "execution_count": null,
   "metadata": {
    "ExecuteTime": {
     "end_time": "2020-09-16T04:02:22.463395Z",
     "start_time": "2020-09-16T04:02:22.459880Z"
    }
   },
   "outputs": [],
   "source": [
    "stars =  [3,5,4,2,1,5,5]\n",
    "for star in stars:\n",
    "    if star >= 4:\n",
    "        continue\n",
    "    print(star)"
   ]
  },
  {
   "cell_type": "code",
   "execution_count": null,
   "metadata": {
    "ExecuteTime": {
     "end_time": "2020-09-16T04:13:47.930011Z",
     "start_time": "2020-09-16T04:13:47.926934Z"
    }
   },
   "outputs": [],
   "source": [
    "# 不用continue，理解即可\n",
    "for star in stars:\n",
    "    if star < 4:\n",
    "        print(star)"
   ]
  },
  {
   "cell_type": "code",
   "execution_count": null,
   "metadata": {
    "ExecuteTime": {
     "end_time": "2020-09-16T04:02:23.260137Z",
     "start_time": "2020-09-16T04:02:23.256707Z"
    }
   },
   "outputs": [],
   "source": [
    "# 使用lamda表达式\n",
    "# 这是高级用法，对于普通学员不要求掌握\n",
    "for star in list(filter(lambda x: x<4 , stars)):\n",
    "    print(star)"
   ]
  },
  {
   "cell_type": "code",
   "execution_count": null,
   "metadata": {
    "ExecuteTime": {
     "end_time": "2020-09-16T04:02:23.798009Z",
     "start_time": "2020-09-16T04:02:23.794689Z"
    }
   },
   "outputs": [],
   "source": [
    "# 使用iterable\n",
    "# 这是高级用法，对于普通学员不要求掌握\n",
    "for star in [star for star in stars if star<4]:\n",
    "    print(star)"
   ]
  },
  {
   "cell_type": "markdown",
   "metadata": {},
   "source": [
    "# 7. 自动邮件机器人\n",
    "---\n",
    "题目：\n",
    "\n",
    "* 假设你是负责给客户发邮件的运营人员\n",
    "* 你现在学了 Python想开发一个发邮件机器人\n",
    "\n",
    "* 程序可以一直运行\n",
    " \n",
    "  提示运营人员输入姓名 \n",
    "  \n",
    "  提示运营人输入购买的商品 \n",
    "\n",
    "  然后根据输入的姓名/商品名拼接输出邮件\n",
    "  \n",
    "  输出邮件格式如下：\n",
    "\n",
    "Dear [用户姓名]:\n",
    "    \n",
    "    Your purchased product : [产品名] is delivered!\n",
    "    \n",
    "    Thanks for your choosing!\n",
    "    \n",
    "*  使用 while 来循环提示用户输入，直到用户在姓名中输入 ! 才退出(用break)\n",
    "\n",
    "---\n",
    "题目解析:\n",
    "\n",
    "* while True 表示无限循环，让这个循环一直执行下去\n",
    "\n",
    "  只要whilie 条件满足 就会执行里面的代码块 除非执行后导致这个条件不满足 循环才会停止\n",
    "  \n",
    "  这while 接受的条件是 True （这是恒等式，就是条件一直成立）, 只要循环体中间的代码不 break, 它就会一直运行下去\n",
    "  \n",
    "  \n",
    "* break 是用来终止循环语句(for/while 循环)\n",
    "\n",
    "\n",
    "* 请大家把自己代入进去，想像一下这个机器人能自动给客户发邮件会怎么样？\n",
    "\n",
    "---\n",
    "解题步骤:\n",
    "\n",
    "*  使用三引号定义了多行邮件模板，中间的客户姓名，商品名用 %s 代替，方便自动填充\n",
    "\n",
    "*  使用 whiel True 声明一个无限循环\n",
    "\n",
    "   使用 input 提示输入 客户姓名，放到 name 中\n",
    "   \n",
    "   用 if 判断 name == \"!\", 则调用 break 终止整个循环\n",
    "   \n",
    "   使用 input 提示输入 商品名，放到 product 中\n",
    "   \n",
    "   使用 % 将 (name,product) 拼接到模板 email_template中，把结果放到 email_body\n",
    "   \n",
    "   打印输出 email_body\n",
    "   \n",
    "   为了方便调试时区分每次循环时的输出，在循环的最后打印输出 \"----------Mail Delivered!--------------------\"\n",
    "---\n",
    "参考:   \n",
    "\n",
    "* 必看：[Python While 循环语句](https://www.runoob.com/python/python-while-loop.html)\n",
    "\n",
    "* 必看：[Python break 语句](https://www.runoob.com/python/python-break-statement.html)\n",
    "\n",
    "* [使用三引号处理多行字符串](https://blog.csdn.net/sinat_41104353/article/details/79266048)\n",
    "\n",
    "\n",
    "* [python3处理字符串](https://www.runoob.com/python3/python3-string.html)\n",
    "\n",
    "   请查看 Python三引号/Python字符串格式化 两节\n",
    "   \n",
    "   大家可以把自己代入进去，想想有个机器人能帮你做事！\n",
    "\n",
    "\n",
    "* [最全面的 python 字符串拼接总结](https://segmentfault.com/a/1190000015475309)\n"
   ]
  },
  {
   "cell_type": "code",
   "execution_count": null,
   "metadata": {
    "ExecuteTime": {
     "end_time": "2020-09-16T07:42:46.446010Z",
     "start_time": "2020-09-16T06:41:42.597043Z"
    }
   },
   "outputs": [],
   "source": [
    "email_template = \"\"\"\n",
    "Dear %s:\n",
    "\n",
    "Your purchased product : %s is delivered!\n",
    "\n",
    "Thanks for your choosing!\n",
    "\"\"\"\n",
    "#只要whilie 条件满足 就会执行里面的代码块 除非执行后导致这个条件不满足 循环才会停止\n",
    "while True:\n",
    "    name = input(\"请输入客户姓名:\")\n",
    "    if name == \"!\":\n",
    "        break\n",
    "    product = input(\"请输入商品名:\")\n",
    "\n",
    "    email_body = email_template % (name,product)\n",
    "    print(email_body)\n",
    "    print(\"----------Mail Delivered!--------------------\")"
   ]
  },
  {
   "cell_type": "markdown",
   "metadata": {},
   "source": [
    "# 致谢\n",
    "\n",
    "谢谢 Miles/Zack/Zane 对本章内容的评审，特此致谢！"
   ]
  }
 ],
 "metadata": {
  "kernelspec": {
   "display_name": ".env",
   "language": "python",
   "name": "python3"
  },
  "language_info": {
   "codemirror_mode": {
    "name": "ipython",
    "version": 3
   },
   "file_extension": ".py",
   "mimetype": "text/x-python",
   "name": "python",
   "nbconvert_exporter": "python",
   "pygments_lexer": "ipython3",
   "version": "3.9.6"
  },
  "toc": {
   "base_numbering": 1,
   "nav_menu": {},
   "number_sections": true,
   "sideBar": true,
   "skip_h1_title": false,
   "title_cell": "Table of Contents",
   "title_sidebar": "Contents",
   "toc_cell": false,
   "toc_position": {
    "height": "calc(100% - 180px)",
    "left": "10px",
    "top": "150px",
    "width": "358.391px"
   },
   "toc_section_display": true,
   "toc_window_display": true
  },
  "varInspector": {
   "cols": {
    "lenName": 16,
    "lenType": 16,
    "lenVar": 40
   },
   "kernels_config": {
    "python": {
     "delete_cmd_postfix": "",
     "delete_cmd_prefix": "del ",
     "library": "var_list.py",
     "varRefreshCmd": "print(var_dic_list())"
    },
    "r": {
     "delete_cmd_postfix": ") ",
     "delete_cmd_prefix": "rm(",
     "library": "var_list.r",
     "varRefreshCmd": "cat(var_dic_list()) "
    }
   },
   "types_to_exclude": [
    "module",
    "function",
    "builtin_function_or_method",
    "instance",
    "_Feature"
   ],
   "window_display": false
  }
 },
 "nbformat": 4,
 "nbformat_minor": 4
}
