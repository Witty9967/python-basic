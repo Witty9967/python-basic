{
 "cells": [
  {
   "cell_type": "markdown",
   "metadata": {},
   "source": [
    "# 1. 基础知识重复提醒\n",
    "\n",
    "有同学会问，不是上一章讲过这些吗？为什么要要重复提醒呢？\n",
    "\n",
    "是的，知识学习理解的过程是一个反复的过程，我们小时候第一次学习汉字时，基础字练了20次以上。\n",
    "\n",
    "对于 Python 这么一门语言的练习，基础知识的理解我建议要重复3次以上。\n",
    "\n",
    "老师把重要的基础知识重复出现3次，大家要把作业练习3次以上，老师推荐的各种链接多看一下。\n",
    "\n",
    "学习新知识时快就是慢，慢就是快！\n",
    "\n",
    "大家不但要做我们习题集上的题目，也要练习书上的例题，练习越多理解越深！\n",
    "\n",
    "## 新知识“列表/字典/元组”的提醒\n",
    "\n",
    "机器人的要处理的重复任务，必须要有一个地方进行存储；\n",
    "\n",
    "列表/字典/元组等数据结构就是用来存储各种复杂任务与数据的地方\n",
    "\n",
    "数据结构 + 算法（计算逻辑）= 程序\n",
    "\n",
    "* [Python 列表(List)](https://www.runoob.com/python/python-lists.html)\n",
    "* [Python 字典(Dictionary)](https://www.runoob.com/python/python-dictionary.html)\n",
    "* [Python 元组](https://www.runoob.com/python/python-tuples.html)\n",
    "\n",
    "## 写代码报错了怎么办\n",
    "\n",
    "学习了怎么看错误信息，学会了怎么 Google/Baidu查找出错信息，就掌握了最重要的一门程序技能；\n",
    "\n",
    "有人说学会这两项，就等于半个初级程序员了；学习 Python不是为学习一个固定的知识，而是为了学习解决问题的方法。\n",
    "\n",
    "* [必看: Zane 老师整理了检查错误的方法](https://www.yinxiang.com/everhub/note/1e44d717-75c3-413d-83ad-5716126ccaa6)\n",
    "* [新人必看：17个新手常见Python运行时错误](https://www.oschina.net/question/89964_62779)\n",
    "\n",
    "\n",
    "## Python 各种基础知识\n",
    "---\n",
    "本章\n",
    "* [Python 列表(List)](https://www.runoob.com/python/python-lists.html)\n",
    "* [Python 字典(Dictionary)](https://www.runoob.com/python/python-dictionary.html)\n",
    "* [Python 元组](https://www.runoob.com/python/python-tuples.html)\n",
    "* [Python 字典(Dictionary) get()方法](https://www.runoob.com/python/att-dictionary-get.html)\n",
    "* [Python List sort()方法](https://www.runoob.com/python/att-list-sort.html)\n",
    "* [Python 切片介绍](https://www.liaoxuefeng.com/wiki/1016959663602400/1017269965565856)\n",
    "*  [Python基础学习-Python中最常见括号()、[]、{}的区别](https://www.cnblogs.com/xuxiaolu/p/4726064.html)\n",
    "* [Python List append()方法](https://www.runoob.com/python/att-list-append.html)\n",
    "* [Python List insert()方法](https://www.runoob.com/python/att-list-insert.html)\n",
    "* [Python List index()方法](https://www.runoob.com/python/att-list-index.html)\n",
    "* [python，list中删除的三种方法del、remove、pop](https://blog.csdn.net/weixin_42814873/article/details/83377431)\n",
    "* [Python List sort()方法](https://www.runoob.com/python/att-list-sort.html)\n",
    "\n",
    "---\n",
    "历史\n",
    "\n",
    "* [Zane老师整理Python基础知识](https://www.yinxiang.com/everhub/note/414a0a33-7d28-4c27-af22-23f950b990fd)\n",
    "* [Python3基础教程](https://www.runoob.com/python3/python3-tutorial.html)\n",
    "* [Python 运算符](https://www.runoob.com/python/python-operators.html)\n",
    "* [Python3 条件控制](https://www.runoob.com/python3/python3-conditional-statements.html)\n",
    "* [Python3 循环语句](https://www.runoob.com/python3/python3-loop.html)\n",
    "* [Python range() 函数用法](https://www.runoob.com/python/python-func-range.html)\n",
    "* [Python continue 语句](https://www.runoob.com/python/python-continue-statement.html) 详解\n",
    "* [Python While 循环语句](https://www.runoob.com/python/python-while-loop.html)\n",
    "* [Python break 语句](https://www.runoob.com/python/python-break-statement.html)\n",
    "* [Python for 循环语句](https://www.runoob.com/python/python-for-loop.html)\n",
    "\n",
    "\n",
    "## 什么是 Markdown(选学)\n",
    "\n",
    "学习了解 Markdown 可以让大家的代码也有漂亮的文字配合！\n",
    "\n",
    "* [Markdown 是什么](https://www.zhihu.com/question/19963642)"
   ]
  },
  {
   "cell_type": "markdown",
   "metadata": {},
   "source": [
    "# 智能排序机器人\n",
    "---\n",
    "题目：\n",
    "* 你现在公司的销售经理，要对一些销售数据进行分析\n",
    "\n",
    "* 公司有百亿条销售数据，抽出一些销售额信息让你练手\n",
    "\n",
    "```\n",
    "  sales = [100,200,50,300,20,500,1000,10]\n",
    "```\n",
    "* 请对 sales 进行升序排序，并且打印出来\n",
    "* 请对 sales 进行降序排序，并且打印出来\n",
    "* 请用排序+切片的方式，找出 Top3 的销售额\n",
    "* 请用排序+切片的方式，找出 最低的3个销售额\n",
    "\n",
    "--- \n",
    "题目解析：\n",
    "\n",
    "* sales 是一个列表类型的对象（变量），里面有非常多对象方法\n",
    "\n",
    "* 其中就包括了 sort 方法\n",
    "\n",
    "  sort() 用于对原列表进行排序\n",
    "  \n",
    "  我们可以指定 reverse = False/True 对来对列表进行升降序排序\n",
    "  \n",
    "  更多用法可以参考：[Python List sort()方法](https://www.runoob.com/python/att-list-sort.html)\n",
    "\n",
    "\n",
    "* Python提供了切片（Slice）操作符，能大大简化取某一段范围内的数据\n",
    "\n",
    "  它提供了各种你想像不到的灵活方式来操作选取数据，它不但现在列表有用，以后在操作 Excel等数据时也有用\n",
    "  \n",
    "  大家不但要看书上的内容，也可再看看外部： [Python 切片介绍](https://www.liaoxuefeng.com/wiki/1016959663602400/1017269965565856)\n",
    "\n",
    "\n",
    "* 很多同学会被 \"()\", \"[]\" 这两个搞混，\n",
    "\n",
    "  () 一般是接在函数名后，() 里面放若干个参数，比如 print(\"Hello,world\")\n",
    "  () 还有可以用来定义元组(tuple), 类似列表，但是里面的值是不可修改的\n",
    "  \n",
    "  [] 一般是接在 列表对象/字典对象后，这是用有来选择数据的，比如 sales[0] \n",
    "  如果大家后面学习 Pandas, 会发现 [] 的更多用处 [Pandas的切片处理](https://blog.csdn.net/yoonhee/article/details/76168253)\n",
    "\n",
    "\n",
    "  更详细的解释可以看这里：[Python基础学习-Python中最常见括号()、[]、{}的区别](https://www.cnblogs.com/xuxiaolu/p/4726064.html)\n",
    "  \n",
    "  \n",
    "* 字符串 乘 一个数字，表示将这个字符串重多少次（是不是很好玩）\n",
    "\n",
    "  \">\"* 10 == \">>>>>>>>>>\"\n",
    "  \n",
    "  方便我们输出很长的分隔符\n",
    "  \n",
    "---\n",
    "\n",
    "解题步骤：\n",
    "\n",
    "* 直接调用 sales 的 sort() 方法, 因为默认是升序\n",
    "\n",
    "  再打印输出排序后的 sales\n",
    "  \n",
    "\n",
    "* 调用 sales 的 sort() 方法，传入 reverse 参数\n",
    "\n",
    "  再打印输出排序后的 sales\n",
    "  \n",
    "\n",
    "* 直接调用 sales 的 sort() 方法, 这时 sales 是升序的\n",
    "\n",
    "\n",
    "* 使用 [-3:] 切片选择最后3个数据并打印输出\n",
    "  \n",
    "  切片里参数以的冒号 \":\" 来分隔，第1参数表示从哪哪里开始选择\n",
    "  \n",
    "  -3 表示从倒数第3个数开始选择，\n",
    "  \n",
    "  冒号 \":\" 后为空表示选择到最后为止\n",
    "  \n",
    "  \n",
    "* 使用 [:3] 切片选择前3个数据并打印输出\n",
    "\n",
    "  切片里参数以的冒号 \":\" 来分隔，第1参数表示从哪哪里开始选择\n",
    "  \n",
    "  冒号 \":\" 前为空表示从列表最开始的地方进行选择\n",
    "  \n",
    "  3 表示选到第列表的第3数据并为止\n",
    "  \n",
    "---\n",
    "参考:\n",
    "* [Python List sort()方法](https://www.runoob.com/python/att-list-sort.html)\n",
    "* [Python 切片介绍](https://www.liaoxuefeng.com/wiki/1016959663602400/1017269965565856)\n",
    "*  [Python基础学习-Python中最常见括号()、[]、{}的区别](https://www.cnblogs.com/xuxiaolu/p/4726064.html)\n",
    "* [Python 列表(List)](https://www.runoob.com/python/python-lists.html)\n"
   ]
  },
  {
   "cell_type": "code",
   "execution_count": 2,
   "metadata": {},
   "outputs": [],
   "source": [
    "sales =  [100,200,50,300,20,500,1000,10]"
   ]
  },
  {
   "cell_type": "code",
   "execution_count": 5,
   "metadata": {},
   "outputs": [
    {
     "name": "stdout",
     "output_type": "stream",
     "text": [
      "进行升序排序\n",
      "[10, 20, 50, 100, 200, 300, 500, 1000]\n"
     ]
    }
   ],
   "source": [
    "print(\"进行升序排序\")\n",
    "sales.sort()\n",
    "print(sales)\n"
   ]
  },
  {
   "cell_type": "code",
   "execution_count": 6,
   "metadata": {},
   "outputs": [
    {
     "name": "stdout",
     "output_type": "stream",
     "text": [
      "进行降序排序\n",
      "[1000, 500, 300, 200, 100, 50, 20, 10]\n"
     ]
    }
   ],
   "source": [
    "print(\"进行降序排序\")\n",
    "sales.sort(reverse=True)\n",
    "print(sales)\n"
   ]
  },
  {
   "cell_type": "code",
   "execution_count": null,
   "metadata": {},
   "outputs": [],
   "source": [
    "#进行升序排序\n",
    "\n"
   ]
  },
  {
   "cell_type": "code",
   "execution_count": 7,
   "metadata": {},
   "outputs": [
    {
     "name": "stdout",
     "output_type": "stream",
     "text": [
      "查看最后3个数据(top3)\n",
      "[300, 500, 1000]\n"
     ]
    }
   ],
   "source": [
    "print(\"查看最后3个数据(top3)\")\n",
    "sales.sort()\n",
    "print(sales[-3:])\n"
   ]
  },
  {
   "cell_type": "code",
   "execution_count": 11,
   "metadata": {
    "ExecuteTime": {
     "end_time": "2020-07-16T10:18:33.737309Z",
     "start_time": "2020-07-16T10:18:33.730414Z"
    }
   },
   "outputs": [
    {
     "name": "stdout",
     "output_type": "stream",
     "text": [
      "查看最前3个数据( 最低的3个销售额)\n",
      "[10, 20, 50]\n"
     ]
    }
   ],
   "source": [
    "print(\"查看最前3个数据( 最低的3个销售额)\")\n",
    "sales.sort()\n",
    "print(sales[:3])\n"
   ]
  },
  {
   "cell_type": "markdown",
   "metadata": {},
   "source": [
    "# 车位管理机器人\n",
    "---\n",
    "题目：\n",
    "\n",
    "* 你现有管理一个停车场\n",
    "* 现有一组车位租用情况，结构如下：\n",
    "```\n",
    "    car_nums = ['A0001','A00X9','A0027']   \n",
    "```\n",
    "* 现有新来了一辆车 'A0030', 请把它放在 car_nums 的最后面\n",
    "* 现有新来了一辆车 'A0000', 请把它放在 car_nums 的最前面\n",
    "* 'A00X9' 这辆车现在不租你的停车位上，请把它从 car_nums 中删掉\n",
    "* 现在来了一个车队 ['B0001','B0002','B003'], 请用一行代码把它加到 car_nums 中\n",
    "\n",
    "--- \n",
    "题目解析：\n",
    "\n",
    "* 使用 list.append 函数向 car_nums 最尾部添加 'A0030'\n",
    "\n",
    "* 使用 list.insert 函数向 car_nums 最前面插入 'A0000'\n",
    "\n",
    "  insert 函数有两个参数，第1个参数表示插入数据的位置，因为 Python 的列表数据下标是从 0 开始，所以我们填的是0.\n",
    "  \n",
    "  \n",
    "* 使用 list.index 函数从 car_nums 中找出 'A00X9' 所在的位置，放到    del_index 中\n",
    "\n",
    "  再调用 del 来删除 'A00X9'  \n",
    "  \n",
    "  \n",
    "* 使用 list.extend 将 ['B0001','B0002','B003'] 放到 car_nums 的最尾部 \n",
    "\n",
    "---\n",
    "参考:\n",
    "* [Python List append()方法](https://www.runoob.com/python/att-list-append.html)\n",
    "* [Python List insert()方法](https://www.runoob.com/python/att-list-insert.html)\n",
    "* [Python List index()方法](https://www.runoob.com/python/att-list-index.html)\n",
    "* [python，list中删除的三种方法del、remove、pop](https://blog.csdn.net/weixin_42814873/article/details/83377431)\n",
    "* [Python List sort()方法](https://www.runoob.com/python/att-list-sort.html)\n",
    "* [Python 切片介绍](https://www.liaoxuefeng.com/wiki/1016959663602400/1017269965565856)\n",
    "*  [Python基础学习-Python中最常见括号()、[]、{}的区别](https://www.cnblogs.com/xuxiaolu/p/4726064.html)\n",
    "* [Python 列表(List)](https://www.runoob.com/python/python-lists.html)\n"
   ]
  },
  {
   "cell_type": "code",
   "execution_count": 31,
   "metadata": {},
   "outputs": [],
   "source": [
    "car_nums = ['A0001','A00X9','A0027']   \n"
   ]
  },
  {
   "cell_type": "code",
   "execution_count": 16,
   "metadata": {},
   "outputs": [
    {
     "name": "stdout",
     "output_type": "stream",
     "text": [
      "现有新来了一辆车 'A0030', 请把它放在 car_nums 的最后面\n",
      "['A0001', 'A00X9', 'A0027', 'A0030']\n"
     ]
    }
   ],
   "source": [
    "print(\"现有新来了一辆车 'A0030', 请把它放在 car_nums 的最后面\")\n",
    "car_nums.append('A0030')\n",
    "print(car_nums)\n"
   ]
  },
  {
   "cell_type": "code",
   "execution_count": 21,
   "metadata": {},
   "outputs": [
    {
     "name": "stdout",
     "output_type": "stream",
     "text": [
      "现有新来了一辆车 'A0000', 请把它放在 car_nums 的最前面\n",
      "['A0000', 'A0001', 'A00X9', 'A0027']\n"
     ]
    }
   ],
   "source": [
    "print(\"现有新来了一辆车 'A0000', 请把它放在 car_nums 的最前面\")\n",
    "car_nums.insert(0,'A0000')\n",
    "print(car_nums)\n"
   ]
  },
  {
   "cell_type": "code",
   "execution_count": 24,
   "metadata": {},
   "outputs": [
    {
     "name": "stdout",
     "output_type": "stream",
     "text": [
      "'A00X9' 这辆车现在不租你的停车位上，请把它从 car_nums 中删掉\n",
      "2\n",
      "['A0000', 'A0001', 'A0027']\n"
     ]
    }
   ],
   "source": [
    "print(\"'A00X9' 这辆车现在不租你的停车位上，请把它从 car_nums 中删掉\")\n",
    "index=car_nums.index('A00X9')\n",
    "print(index)\n",
    "del car_nums[index]\n",
    "print(car_nums)\n"
   ]
  },
  {
   "cell_type": "code",
   "execution_count": 32,
   "metadata": {},
   "outputs": [
    {
     "name": "stdout",
     "output_type": "stream",
     "text": [
      "现在来了一个车队 ['B0001','B0002','B003'], 请用一行代码把它加到 car_nums 中\n",
      "['A0001', 'A00X9', 'A0027', 'B0001', 'B0002', 'B003']\n"
     ]
    }
   ],
   "source": [
    "print(\"现在来了一个车队 ['B0001','B0002','B003'], 请用一行代码把它加到 car_nums 中\")\n",
    "car_nums.extend(['B0001','B0002','B003'])\n",
    "print(car_nums)\n"
   ]
  },
  {
   "cell_type": "markdown",
   "metadata": {},
   "source": [
    "# 自动询价机器人\n",
    "---\n",
    "题目：\n",
    "\n",
    "* 你现在管理一个商务团队，每天有客户找问价格\n",
    "* 你有一个价格对应表\n",
    "```\n",
    "  prices =  {\n",
    "      \"SKU-A\": 100,\n",
    "      \"SKU-B\": 120,\n",
    "      \"SKU-C\": 190,\n",
    "      \"SKU-D\": 200\n",
    "  }\n",
    "```  \n",
    "* 每次客户来问题，你都要找这个表，你现在很烦，想做一个自动机器人\n",
    "* 写一个 while 循环，提示用户输入 sku\n",
    "* 根据用户输入的sku查询 prices, 找印出对应价格\n",
    "* 如果用户输入 ! 则退出循环(break)\n",
    "\n",
    "---\n",
    "题目解析:\n",
    "\n",
    "* while True 表示无限循环，让这个循环一直执行下去\n",
    "\n",
    "  只要whilie 条件满足 就会执行里面的代码块 除非执行后导致这个条件不满足 循环才会停止\n",
    "  \n",
    "  这while 接受的条件是 True （这是恒等式，就是条件一直成立）, 只要循环体中间的代码不 break, 它就会一直运行下去\n",
    "  \n",
    "  \n",
    "* break 是用来终止循环语句(for/while 循环)\n",
    "\n",
    "\n",
    "* 请大家把自己代入进去，想像一下这个机器人能样回复客户询价？\n",
    "\n",
    "---\n",
    "解题步骤:\n",
    "\n",
    "*  使用 {} 定义了一个字典类型的价格，key 是 SKU, value 是价格\n",
    "\n",
    "   在这里我们使用的是字典来存储数据的对应的关系，以后大家学习 Pandas 时候会有更简单更方便的办法来存数据。\n",
    "   \n",
    "*  使用 whiel True 声明一个无限循环\n",
    "\n",
    "   使用 input 提示输入 SKU，放到 sku 中\n",
    "   \n",
    "   用 if 判断 sku == \"!\", 则调用 break 终止整个循环\n",
    "   \n",
    "   以 sku 为参数调用 dict.get 函数，从 prices 中取得价格放到 price 中\n",
    "      \n",
    "   使用 % 将 (sku,price) 拼接到模板 \"sku: %s, price: %f\" 中，并打印输出\n",
    "   （备注：%s 表示接收字符串，%f 表示接收浮点数)\n",
    "   \n",
    "---\n",
    "参考:   \n",
    "\n",
    "* 必看：[Python while 循环语句](https://www.runoob.com/python/python-while-loop.html)\n",
    "\n",
    "* 必看：[Python break 语句](https://www.runoob.com/python/python-break-statement.html)\n",
    "\n",
    "* [python3处理字符串](https://www.runoob.com/python3/python3-string.html)\n",
    "\n",
    "* [Python 字典(Dictionary) get()方法](https://www.runoob.com/python/att-dictionary-get.html)\n",
    "\n",
    "* [最全面的 python 字符串拼接总结](https://segmentfault.com/a/1190000015475309)"
   ]
  },
  {
   "cell_type": "code",
   "execution_count": 33,
   "metadata": {
    "ExecuteTime": {
     "end_time": "2020-10-09T08:49:42.172498Z",
     "start_time": "2020-10-09T08:49:42.169766Z"
    }
   },
   "outputs": [],
   "source": [
    "# 定义价格表\n",
    "prices =  {\n",
    "            \"SKU-A\": 100,\n",
    "            \"SKU-B\": 120,\n",
    "            \"SKU-C\": 190,\n",
    "            \"SKU-D\": 200\n",
    "}"
   ]
  },
  {
   "cell_type": "code",
   "execution_count": null,
   "metadata": {
    "ExecuteTime": {
     "start_time": "2020-10-09T08:54:48.298Z"
    }
   },
   "outputs": [
    {
     "name": "stdout",
     "output_type": "stream",
     "text": [
      "您选的商品SKU-A的价格是100\n",
      "您选的商品SKU-D的价格是200\n"
     ]
    }
   ],
   "source": [
    "# 开始写 while True 循环\n",
    "while True:\n",
    "    sku=input('请输入sku：')\n",
    "    if sku == '!':\n",
    "        break\n",
    "    price = prices.get(sku)\n",
    "    print('您选的商品%s的价格是%s: 1' % (sku,price))"
   ]
  },
  {
   "cell_type": "markdown",
   "metadata": {},
   "source": [
    "# 仓库数据管理机器人\n",
    "\n",
    "---\n",
    "题目：\n",
    "\n",
    "* 你现在是仓库的负责人\n",
    "* 仓库数格式是这样的\n",
    "```\n",
    "    total = [\n",
    "        {\"sku\": \"SKU-A\", \"quantity\": 100},\n",
    "        {\"sku\": \"SKU-B\", \"quantity\": 200},\n",
    "        {\"sku\": \"SKU-C\", \"quantity\": 400},\n",
    "        {\"sku\": \"SKU-D\", \"quantity\": 300},\n",
    "    ]\n",
    "```   \n",
    "* 请统计仓库的物品总数量(quantity)\n",
    "* 现在 SKU-A 要入库 100件商品，请更新 SKU-A 的库存记录\n",
    "* 现在 SKU-E 新品上市，要入库300件商品，请在 total 中新增一条相应记录\n",
    "* 现在 SKU-B 要退市，请将 SKU-B 这行记录删掉  #此题可选\n",
    "* 使用切片方法显示 total 中的最后一行记录\n",
    "\n",
    "---\n",
    "题目解析：\n",
    "\n",
    "这是一道复合题，也是为了方便大家理解复杂的数据结构，为以后大家学 Pandas 处理得复杂数据打下伏笔，不过大家放心，后面学习 Pandas 后肯定比现在方便！\n",
    "\n",
    "* total 的最外层是 [], 表示它是一个list\n",
    "\n",
    "  可以用 print(type(total)) 来看它是什么类型\n",
    "  \n",
    "  \n",
    "* total 的里层是 {}, 表示里面放的是 dict; \n",
    "\n",
    "  那么total 是一个里面成员都是 dict的 list,\n",
    "  \n",
    "  total[0] 表示是 total 的第一个元素，print(type(total[0]))\n",
    "\n",
    "\n",
    "* 可以使用 len(total) 得到列表的长度\n",
    "\n",
    "  使用 range(len(total)) 就可以生一个 total 列表下标的列表\n",
    "  \n",
    "  如果上面那句话很绕， 你就认为: range(len(total)) == [0,1,2,3] 就好了\n",
    "  \n",
    "* 如果大家能独立的把道题解好理解透，就达到半个初级程序水平了\n",
    "\n",
    "---\n",
    "解题步骤:\n",
    "\n",
    "* 定义 total 变量\n",
    "\n",
    "* 声明变量 total_quantity = 0, 这个变量是用来存储仓库总库存量\n",
    "\n",
    "  使用 for 循环遍历 total, 将遍历的数据放到 item 中; total是一个列表，遍历 total 得到的 item, 就其中的一个元素，它是字典类型\n",
    "  \n",
    "  通过 [] 从item 取出 key为 \"quantity\" 值（就是取出每个商品的库存量）\n",
    "  \n",
    "  把 total_quanity 与 item[\"quantity\"] 相加，再放到 total_quanity中\n",
    "  \n",
    "  当 这个 for 循环结束时，total_quanity中最是仓库的库存总量了\n",
    "  \n",
    "  \n",
    "* 使用 for 循环遍历 total, 将遍历的数据放到 item 中; total是一个列表，遍历 total 得到的 item, 就其中的一个元素，它是字典类型\n",
    "\n",
    "  使用 if 语句判断 item 中 key为 \"sku\" 的值是否等于 \"SKU-A\"\n",
    "  \n",
    "  如果相等，则更将 item 中 key为 \"quantity\" 的值增加 100\n",
    "  \n",
    "  提示一下，大家可以开始学习使用 \"+=\" 运算符，减少代码量\n",
    "\n",
    "\n",
    "* 定义一个字典类型的变量sku_e，里面有 \"sku\",\"quantity\"两个key 相应的 value\n",
    "\n",
    "  使用 list.append 函数将 sku_e 添加到 total 里面\n",
    "\n",
    "\n",
    "* 声名变量 sku_b_index = -1，这个变量用来表示 SKU-B 在 total 里的位置，最开始将它设为 -1, 就是为了方便标识是否找到了 SKU-B, 如果找到了 sku_b_index 就肯定都不等于-1, 只会是0或更大的值\n",
    "\n",
    "  len(total) 返回的是 total里元素的数量，假设返回了3\n",
    "  \n",
    "  那么 range(len(total)) 就相当于 0,1,2\n",
    "  \n",
    "  使用 for 循环遍历 total, 因为我们想要找到 SKU-B 在列表 total 中的位置，所以我们使用了：for index in range(len(total))，这样就把遍历列表 total的下标位置放到了 index 中\n",
    "  \n",
    "  使用 [] + index 从 total 取出相应位置的数据放到 item 中，item 是一个字典类型的数据，表示一条库存记录\n",
    "  \n",
    "  使用 if 语句判断 item 中 key 为 \"sku\" 的值是否等于 \"SKU-B\", 如果相等就表示找到了 SKU-B 的库存记录，这时把它在 total的位置记录下来保存到 sku_b_index\n",
    "  \n",
    "  当 for 循环结束时，判断 sku_b_index 是否不等于 -1， 如果不等于，就使用 del 来删掉 total 里 sku_b_index 位置的记录\n",
    "     \n",
    "  \n",
    "* total 是一个列表，[-1] 表示取最后一行的记录\n",
    "\n",
    "---\n",
    "\n",
    "* [Python 运算符](https://www.runoob.com/python/python-operators.html)\n",
    "\n",
    "* [Python List append()方法](https://www.runoob.com/python/att-list-append.html)\n",
    "\n",
    "* [Python for 循环语句](https://www.runoob.com/python/python-for-loop.html)\n",
    "\n",
    "* [Python range() 函数用法](https://www.runoob.com/python/python-func-range.html)\n",
    "\n",
    "* [python，list中删除的三种方法del、remove、pop](https://blog.csdn.net/weixin_42814873/article/details/83377431)\n",
    "\n",
    "* [Python 切片介绍](https://www.liaoxuefeng.com/wiki/1016959663602400/1017269965565856)\n",
    "\n"
   ]
  },
  {
   "cell_type": "code",
   "execution_count": 60,
   "metadata": {},
   "outputs": [],
   "source": [
    "total = [\n",
    "    {\"sku\": \"SKU-A\", \"quantity\": 100},\n",
    "    {\"sku\": \"SKU-B\", \"quantity\": 200},\n",
    "    {\"sku\": \"SKU-C\", \"quantity\": 400},\n",
    "    {\"sku\": \"SKU-D\", \"quantity\": 300},\n",
    "]\n"
   ]
  },
  {
   "cell_type": "code",
   "execution_count": 40,
   "metadata": {},
   "outputs": [
    {
     "name": "stdout",
     "output_type": "stream",
     "text": [
      "请统计仓库的物品总数量(quantity)\n",
      "{'sku': 'SKU-A', 'quantity': 100}\n",
      "{'sku': 'SKU-B', 'quantity': 200}\n",
      "{'sku': 'SKU-C', 'quantity': 400}\n",
      "{'sku': 'SKU-D', 'quantity': 300}\n",
      "1000\n"
     ]
    }
   ],
   "source": [
    "print(\"请统计仓库的物品总数量(quantity)\")\n",
    "total_quantity = 0\n",
    "for i in total:\n",
    "    print(i)\n",
    "    total_quantity += i['quantity']\n",
    "print(total_quantity)"
   ]
  },
  {
   "cell_type": "code",
   "execution_count": 47,
   "metadata": {},
   "outputs": [
    {
     "name": "stdout",
     "output_type": "stream",
     "text": [
      "现在 SKU-A 要入库 100件商品，请更新 SKU-A 的库存记录\n",
      "[{'sku': 'SKU-A', 'quantity': 200}, {'sku': 'SKU-B', 'quantity': 200}, {'sku': 'SKU-C', 'quantity': 400}, {'sku': 'SKU-D', 'quantity': 300}]\n"
     ]
    }
   ],
   "source": [
    "print(\"现在 SKU-A 要入库 100件商品，请更新 SKU-A 的库存记录\")\n",
    "\n",
    "for i in total:\n",
    "    if i['sku'] == 'SKU-A':\n",
    "        i['quantity'] += 100\n",
    "print(total)\n"
   ]
  },
  {
   "cell_type": "code",
   "execution_count": 50,
   "metadata": {},
   "outputs": [
    {
     "name": "stdout",
     "output_type": "stream",
     "text": [
      "现在 SKU-E 新品上市，要入库300件商品，请在 total 中新增一条相应记录\n",
      "[{'sku': 'SKU-A', 'quantity': 100}, {'sku': 'SKU-B', 'quantity': 200}, {'sku': 'SKU-C', 'quantity': 400}, {'sku': 'SKU-D', 'quantity': 300}, {'sku': 'SKU-E', 'quantity': 300}]\n"
     ]
    }
   ],
   "source": [
    "print(\"现在 SKU-E 新品上市，要入库300件商品，请在 total 中新增一条相应记录\")\n",
    "sku_e = {'sku': 'SKU-E', 'quantity': 300}\n",
    "total.append(sku_e)\n",
    "print(total)\n"
   ]
  },
  {
   "cell_type": "code",
   "execution_count": 62,
   "metadata": {},
   "outputs": [
    {
     "name": "stdout",
     "output_type": "stream",
     "text": [
      "现在 SKU-B 要退市，请将 SKU-B 这行记录删掉\n",
      "[{'sku': 'SKU-C', 'quantity': 400}, {'sku': 'SKU-D', 'quantity': 300}]\n"
     ]
    }
   ],
   "source": [
    "print(\"现在 SKU-B 要退市，请将 SKU-B 这行记录删掉\")\n",
    "index=0\n",
    "for i in total:\n",
    "    if i['sku'] =='SKU-B':\n",
    "        total.remove(i)\n",
    "\n",
    "print(total)\n",
    "    "
   ]
  },
  {
   "cell_type": "code",
   "execution_count": 54,
   "metadata": {},
   "outputs": [
    {
     "name": "stdout",
     "output_type": "stream",
     "text": [
      "使用切片方法显示 total 中的最后一行记录\n",
      "{'sku': 'SKU-E', 'quantity': 300}\n"
     ]
    }
   ],
   "source": [
    "print(\"使用切片方法显示 total 中的最后一行记录\")\n",
    "last_row=total[-1]\n",
    "print(last_row)\n"
   ]
  },
  {
   "cell_type": "markdown",
   "metadata": {},
   "source": [
    "# 致谢\n",
    "\n",
    "谢谢 Loren 对本章内容的评审，特此致谢！"
   ]
  }
 ],
 "metadata": {
  "kernelspec": {
   "display_name": ".env",
   "language": "python",
   "name": "python3"
  },
  "language_info": {
   "codemirror_mode": {
    "name": "ipython",
    "version": 3
   },
   "file_extension": ".py",
   "mimetype": "text/x-python",
   "name": "python",
   "nbconvert_exporter": "python",
   "pygments_lexer": "ipython3",
   "version": "3.9.6"
  },
  "toc": {
   "base_numbering": 1,
   "nav_menu": {},
   "number_sections": true,
   "sideBar": true,
   "skip_h1_title": false,
   "title_cell": "Table of Contents",
   "title_sidebar": "Contents",
   "toc_cell": false,
   "toc_position": {},
   "toc_section_display": true,
   "toc_window_display": true
  },
  "varInspector": {
   "cols": {
    "lenName": 16,
    "lenType": 16,
    "lenVar": 40
   },
   "kernels_config": {
    "python": {
     "delete_cmd_postfix": "",
     "delete_cmd_prefix": "del ",
     "library": "var_list.py",
     "varRefreshCmd": "print(var_dic_list())"
    },
    "r": {
     "delete_cmd_postfix": ") ",
     "delete_cmd_prefix": "rm(",
     "library": "var_list.r",
     "varRefreshCmd": "cat(var_dic_list()) "
    }
   },
   "types_to_exclude": [
    "module",
    "function",
    "builtin_function_or_method",
    "instance",
    "_Feature"
   ],
   "window_display": false
  }
 },
 "nbformat": 4,
 "nbformat_minor": 4
}
