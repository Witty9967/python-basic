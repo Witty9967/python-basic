{
 "cells": [
  {
   "cell_type": "markdown",
   "metadata": {},
   "source": [
    "# 1. 基础知识重复提醒\n",
    "\n",
    "有同学会问，不是上一章讲过这些吗？为什么要要重复提醒呢？\n",
    "\n",
    "是的，知识学习理解的过程是一个反复的过程，我们小时候第一次学习汉字时，基础字练了20次以上。\n",
    "\n",
    "对于 Python 这么一门语言的练习，基础知识的理解我建议要重复3次以上。\n",
    "\n",
    "老师把重要的基础知识重复出现3次，大家要把作业练习3次以上，老师推荐的各种链接多看一下。\n",
    "\n",
    "学习新知识时快就是慢，慢就是快！\n",
    "\n",
    "大家不但要做我们习题集上的题目，也要练习书上的例题，练习越多理解越深！\n",
    "\n",
    "## 新知识函数的提醒\n",
    "\n",
    "函数是代码复用的基础单元，我们把常用的代码封装一个个函数，减少大家的工作量\n",
    "\n",
    "我们前使用的 print, range, len 都是函数，现在我们不但要学习怎么用函数，也要学习怎么自己写一个个函数\n",
    "\n",
    "函数的目的不是为了增加了大家的工作量，而是为了降低大家的工作量；如果大家把自己常用代码封装成一个个函数，要用的时候，只要传个参数调用就好了！\n",
    "\n",
    "前面变量/逻辑判断/循环/数据结构是日后大家每天用 Python 的基础；自己写函数是在前面基础的拔高，是 Excel 思维和程序思维的一个分水岭！\n",
    "\n",
    "大家放心，从这往后学习，大家会越学越\"容易\"。\n",
    "\n",
    "## 写代码报错了怎么办\n",
    "\n",
    "学习了怎么看错误信息，学会了怎么 Google/Baidu查找出错信息，就掌握了最重要的一门程序技能；\n",
    "\n",
    "有人说学会这两项，就等于半个初级程序员了；学习 Python不是为学习一个固定的知识，而是为了学习解决问题的方法。\n",
    "\n",
    "* [必看: Zane 老师整理了检查错误的方法](https://www.yinxiang.com/everhub/note/1e44d717-75c3-413d-83ad-5716126ccaa6)\n",
    "* [新人必看：17个新手常见Python运行时错误](https://www.oschina.net/question/89964_62779)\n",
    "\n",
    "\n",
    "## Python 各种基础知识\n",
    "---\n",
    "本章\n",
    "\n",
    "* [Python3 函数](https://www.runoob.com/python3/python3-function.html)\n",
    "* [Python range() 函数用法](https://www.runoob.com/python/python-func-range.html)\n",
    "* [B站视频-Python函数讲解](https://search.bilibili.com/all?keyword=python%E5%87%BD%E6%95%B0%E8%AE%B2%E8%A7%A3)\n",
    "* [Youtube](https://www.youtube.com/results?search_query=Python+%E5%AD%A6%E4%B9%A0)/[B站](https://search.bilibili.com/all?keyword=Python%20%E5%AD%A6%E4%B9%A0)上有很非常多的 Python 学习视频，大家可以根据自己口味去选择\n",
    "\n",
    "---\n",
    "历史\n",
    "\n",
    "* [Zane老师整理Python基础知识](https://www.yinxiang.com/everhub/note/414a0a33-7d28-4c27-af22-23f950b990fd)\n",
    "* [Python3基础教程](https://www.runoob.com/python3/python3-tutorial.html)\n",
    "* [Python 运算符](https://www.runoob.com/python/python-operators.html)\n",
    "* [Python3 条件控制](https://www.runoob.com/python3/python3-conditional-statements.html)\n",
    "* [Python3 循环语句](https://www.runoob.com/python3/python3-loop.html)\n",
    "* [Python range() 函数用法](https://www.runoob.com/python/python-func-range.html)\n",
    "* [Python continue 语句](https://www.runoob.com/python/python-continue-statement.html) 详解\n",
    "* [Python While 循环语句](https://www.runoob.com/python/python-while-loop.html)\n",
    "* [Python break 语句](https://www.runoob.com/python/python-break-statement.html)\n",
    "* [Python for 循环语句](https://www.runoob.com/python/python-for-loop.html)\n",
    "* [Python 列表(List)](https://www.runoob.com/python/python-lists.html)\n",
    "* [Python 字典(Dictionary)](https://www.runoob.com/python/python-dictionary.html)\n",
    "* [Python 元组](https://www.runoob.com/python/python-tuples.html)\n",
    "* [Python 字典(Dictionary) get()方法](https://www.runoob.com/python/att-dictionary-get.html)\n",
    "* [Python List sort()方法](https://www.runoob.com/python/att-list-sort.html)\n",
    "* [Python 切片介绍](https://www.liaoxuefeng.com/wiki/1016959663602400/1017269965565856)\n",
    "*  [Python基础学习-Python中最常见括号()、[]、{}的区别](https://www.cnblogs.com/xuxiaolu/p/4726064.html)\n",
    "* [Python List append()方法](https://www.runoob.com/python/att-list-append.html)\n",
    "* [Python List insert()方法](https://www.runoob.com/python/att-list-insert.html)\n",
    "* [Python List index()方法](https://www.runoob.com/python/att-list-index.html)\n",
    "* [python，list中删除的三种方法del、remove、pop](https://blog.csdn.net/weixin_42814873/article/details/83377431)\n",
    "* [Python List sort()方法](https://www.runoob.com/python/att-list-sort.html)\n",
    "\n",
    "\n",
    "## 什么是 Markdown(选学)\n",
    "\n",
    "学习了解 Markdown 可以让大家的代码也有漂亮的文字配合！\n",
    "\n",
    "* [Markdown 是什么](https://www.zhihu.com/question/19963642)"
   ]
  },
  {
   "cell_type": "markdown",
   "metadata": {},
   "source": [
    "# 高级自动邮件机器人1\n",
    "\n",
    "---\n",
    "题目：\n",
    "\n",
    "* 假设计你是要给自动给客户发邮件的运营\n",
    "\n",
    "下面的是客户的订单数据：\n",
    "\n",
    "```\n",
    "orders = [\n",
    "    {\"buyer_name\": \"Pony\",\"product\": \"MacBook\"},\n",
    "    {\"buyer_name\": \"Bill\",\"product\": \"AirPods\"},\n",
    "    {\"buyer_name\": \"Hank\",\"product\": \"iPhone\"}\n",
    "]\n",
    "```\n",
    "* 写一个函数 deliver_mail 接收客户姓名，产品名，然后输出下面格式的邮件：\n",
    "\n",
    "Dear [用户姓名]:\n",
    "    \n",
    "Your purchased product : [产品名] is delivered!\n",
    "    \n",
    "Thanks for your choosing!\n",
    "    \n",
    "* 遍历orders, 调用 deliver_mail 函数，生成3封邮件\n",
    "\n",
    "--- \n",
    "题目解析：\n",
    "\n",
    "注意：这是一道复合题 \n",
    "\n",
    "* orders 的最外层是 [], 表示它是一个list\n",
    "\n",
    "  可以用 print(type(orders)) 来看它是什么类型\n",
    "\n",
    "\n",
    "* orders 的里层是 {}, 表示里面放的是 dict; \n",
    "\n",
    "  orders 是一个里面成员都是 dict的 list,\n",
    "  \n",
    "  orders[0] 表示是 orders 的第一个元素，print(type(orders[0]))\n",
    "\n",
    "\n",
    "* 如果你想知识 orders (订单表）里有多个 order(订单), 可以使用 len(orders) 查看里面有多少订单\n",
    "\n",
    "* 如果要遍历订单表有两种方法：\n",
    "\n",
    "```\n",
    "# 第一种方法更为简单\n",
    "for order in orders:\n",
    "    print(order)\n",
    "```\n",
    "\n",
    "```\n",
    "#第二种方法知道是第几个订单\n",
    "for i in range(len(orders)):\n",
    "    order = orders[i]\n",
    "    print(order)\n",
    "```\n",
    "---\n",
    "解题步骤：\n",
    "\n",
    "* 定义 orders 变量，里面存储了所有的订单信息\n",
    "\n",
    "  btw: 同学们现在不要急，现在学习的是 Python 基础，相当于学开车时的倒车入库和S路；如果你现在就和 Excel 去对比，是不大合适的；等到下周大家开始学习 Pandas 时，就相当于学科目三，开车上了公路；慢慢的你就可以体会到里面的区别。\n",
    "  \n",
    "  只有现在基础打好了，日后真的开车上路了就不会慌；如果在高速上，你连方向盘都不好，也很危险的！\n",
    "  \n",
    "  \n",
    "* 使用 def 关键字定一个邮件发送函数, 名字叫 deliver_mail，接收 buyer_name, product 两个参数\n",
    "\n",
    "  函数名可以叫任何你想叫的名字，比较 fayoujian  （用拼音不是一个好主意，这里举一个例子)\n",
    "  \n",
    "  参数名也可以按你的喜好来，但是通常建议要起的有意义，函数名了变量名都要小写，单词之前用 \"_\" 来连接\n",
    "\n",
    "  因为字符串拼接以前讲过很多次，这里就不再展开，有不熟的同学可以看一下参考资料\n",
    "  \n",
    "  特别注意的是我现在用 print 打印代替真实的邮件发送，后面的课程我会教大家来发送邮件。\n",
    "  \n",
    "  \n",
    "* 我们使用 for 循环遍历 orders (列表类型), 将遍历的内容放到 order 中\n",
    "\n",
    "  order是一个字典类型的变量，我们通过 [] + key 分别取出了 buyer_name, product\n",
    "  \n",
    "  然后再在循环里，以 buyer_name, product 为参数调用 deliver_mail 函数。\n",
    "  \n",
    "\n",
    "* 大家可以想像一下如果你一天8小手工发500封邮件，现在用循环 + 函数就10分钟搞定了\n",
    "\n",
    "---\n",
    "参考：\n",
    "* [Python3 函数](https://www.runoob.com/python3/python3-function.html)\n",
    "\n",
    "* [Python3 循环语句](https://www.runoob.com/python3/python3-loop.html)\n",
    "\n",
    "* [python3处理字符串](https://www.runoob.com/python3/python3-string.html)\n",
    "\n",
    "* [最全面的 python 字符串拼接总结](https://segmentfault.com/a/1190000015475309)"
   ]
  },
  {
   "cell_type": "code",
   "execution_count": 1,
   "metadata": {
    "ExecuteTime": {
     "end_time": "2020-07-14T09:36:17.418139Z",
     "start_time": "2020-07-14T09:36:17.413010Z"
    }
   },
   "outputs": [
    {
     "name": "stdout",
     "output_type": "stream",
     "text": [
      "\n",
      "    Dear Pony:\n",
      "    Your purchased product: MacBook is delivered!\n",
      "    Thanks for your choosing!\n",
      "    \n",
      "\n",
      "    Dear Bill:\n",
      "    Your purchased product: AirPods is delivered!\n",
      "    Thanks for your choosing!\n",
      "    \n",
      "\n",
      "    Dear Hank:\n",
      "    Your purchased product: iPhone is delivered!\n",
      "    Thanks for your choosing!\n",
      "    \n"
     ]
    }
   ],
   "source": [
    "orders = [\n",
    "    {\"buyer_name\": \"Pony\",\"product\": \"MacBook\"},\n",
    "    {\"buyer_name\": \"Bill\",\"product\": \"AirPods\"},\n",
    "    {\"buyer_name\": \"Hank\",\"product\": \"iPhone\"}\n",
    "]\n",
    "def deliver_mail():\n",
    "    email_temp='''\n",
    "    Dear %s:\n",
    "    Your purchased product: %s is delivered!\n",
    "    Thanks for your choosing!\n",
    "    '''\n",
    "    for i in orders:\n",
    "        name = i['buyer_name']\n",
    "        product = i['product']\n",
    "        print(email_temp % (name,product))\n",
    "        \n",
    "deliver_mail()\n",
    "\n"
   ]
  },
  {
   "cell_type": "markdown",
   "metadata": {},
   "source": [
    "# 小小数学家1\n",
    "---\n",
    "题目:\n",
    "\n",
    "* 定义一个函数 auto_sum，接收一个参数 max_num,\n",
    "\n",
    "  计算 1~ max_num 内所有的整数的和，并将结果返回\n",
    "\n",
    "* 当我们调用 auto_sum 函数时，例如：auto_sum(3)，得到 6\n"
   ]
  },
  {
   "cell_type": "markdown",
   "metadata": {},
   "source": [
    "## 解法1\n",
    "---\n",
    "题目解析：\n",
    "\n",
    "* 这个题目主要练习大家对历史知识的掌控\n",
    "\n",
    "* 加深对 for 循环的理解，再一次了解怎么定义初始变量，理解如何加总求\n",
    "  \n",
    "* 理解什么叫 return\n",
    "\n",
    "---\n",
    "解题步骤：\n",
    "\n",
    "* 使用 def 定义一个名叫 auto_sum 的函数，接收一个名叫 max_num 的参数\n",
    "\n",
    "  定义一个初始变量 total, 将其赋值为0，用来存储汇总求和值\n",
    "  \n",
    "  使用 for 循环遍历 1 ~ max_num 间的数值（可以使用range函数，记得要考虑range的右区间要加1)， 把数值放到变量 i 中\n",
    "  \n",
    "  在循环体中，把 i 的值加到 total 里\n",
    "  \n",
    "  在循环体外把 total 返回(return)\n",
    "  \n"
   ]
  },
  {
   "cell_type": "code",
   "execution_count": 11,
   "metadata": {
    "ExecuteTime": {
     "end_time": "2020-07-14T09:44:35.784968Z",
     "start_time": "2020-07-14T09:44:35.780761Z"
    }
   },
   "outputs": [
    {
     "name": "stdout",
     "output_type": "stream",
     "text": [
      "auto_sum(3): 6\n",
      "auto_sum(10): 55\n",
      "auto_sum(100): 5050\n"
     ]
    }
   ],
   "source": [
    "# 请在这里做题\n",
    "def auto_sum(max_num):\n",
    "    total = 0\n",
    "    max_num=int(max_num)\n",
    "    for i in range(max_num + 1):\n",
    "        total += i\n",
    "    return total\n",
    "\n",
    "# auto_sum(4)\n",
    "\n",
    "\n",
    "\n",
    "#\n",
    "\n",
    "\n",
    "print(\"auto_sum(3):\",auto_sum(3))        \n",
    "print(\"auto_sum(10):\",auto_sum(10))        \n",
    "print(\"auto_sum(100):\",auto_sum(100))        \n",
    "\n",
    "        "
   ]
  },
  {
   "cell_type": "markdown",
   "metadata": {},
   "source": [
    "## 解法2\n",
    "---\n",
    "题目解析：\n",
    "\n",
    "* 这个题目主要练习大家对历史知识的掌控\n",
    "\n",
    "* 理解怎么使用 range 函数\n",
    "  \n",
    "* 理解怎么使用 sum 函数，它不但可以接收单个参数，也可以接收多个参数\n",
    "\n",
    "---\n",
    "解题步骤：\n",
    "\n",
    "* 使用 def 定义一个名叫 auto_sum 的函数，接收一个名叫 max_num 的参数\n",
    "\n",
    "  使用 range 生成 1~max_num 间的数字（记得要考虑range的右区间要加1）\n",
    "  \n",
    "  使用 sum 对 range 进行求和，并将数值返回(return)\n",
    "  \n",
    "---\n",
    "参考:\n",
    "\n",
    "* [Python range() 函数用法](https://www.runoob.com/python/python-func-range.html)"
   ]
  },
  {
   "cell_type": "code",
   "execution_count": 14,
   "metadata": {
    "ExecuteTime": {
     "end_time": "2020-10-12T04:32:05.217681Z",
     "start_time": "2020-10-12T04:32:05.214021Z"
    }
   },
   "outputs": [
    {
     "name": "stdout",
     "output_type": "stream",
     "text": [
      "auto_sum(3): 6\n",
      "auto_sum(10): 55\n",
      "auto_sum(100): 5050\n"
     ]
    }
   ],
   "source": [
    "# 请在这里做题\n",
    "def auto_sum(max_num):\n",
    "    return sum(range(max_num+1))\n",
    "\n",
    "#\n",
    "\n",
    "print(\"auto_sum(3):\",auto_sum(3))        \n",
    "print(\"auto_sum(10):\",auto_sum(10))        \n",
    "print(\"auto_sum(100):\",auto_sum(100))    "
   ]
  },
  {
   "cell_type": "markdown",
   "metadata": {},
   "source": [
    "# 小小数学家2\n",
    "---\n",
    "题目:\n",
    "\n",
    "* 定义一个函数 out_even，接收一个参数 max_num,\n",
    "\n",
    "  将 0 ~ max_num 内所有的偶数找出来，放到一个列表里，并返回\n",
    "\n",
    "* 例如：out_even(10)，得到[0, 2, 4, 6, 8, 10]\n"
   ]
  },
  {
   "cell_type": "markdown",
   "metadata": {},
   "source": [
    "## 解法1\n",
    "---\n",
    "题目解析：\n",
    "\n",
    "* 这个题目主要练习大家对历史知识的掌控\n",
    "\n",
    "* 加深对 for 循环的理解，加深为运算符的理解\n",
    "  \n",
    "* 加深对于列表操作的理解\n",
    "\n",
    "---\n",
    "\n",
    "解题步骤：\n",
    "\n",
    "* 使用 def 定义一个名叫 out_even 的函数，接收一个名叫 max_num 的参数\n",
    "\n",
    "  定义一个初始变量 ret_list, 将其赋值为 []，用来存储找到的偶数\n",
    "  \n",
    "  使用 for 循环遍历 0 ~ max_num 间的数值（可以使用range函数，记得要考虑range的右区间要加1)， 把数值放到变量 i 中\n",
    "  \n",
    "  判断 i%2 是否为零，如果为零则将 i 加到 ret_list 中 ( % 是取模运算符 - 返回除法的余数)\n",
    "    \n",
    "  在循环体外把 ret_list 返回(return)\n",
    "  \n",
    "--- \n",
    "资料:\n",
    "\n",
    "* [Python 运算符](https://www.runoob.com/python/python-operators.html)\n",
    "\n",
    "* [Python range() 函数用法](https://www.runoob.com/python/python-func-range.html)\n",
    "\n",
    "* [Python3 List append()方法](https://www.runoob.com/python3/python3-att-list-append.html)\n"
   ]
  },
  {
   "cell_type": "code",
   "execution_count": 19,
   "metadata": {
    "ExecuteTime": {
     "end_time": "2020-07-18T00:06:52.395838Z",
     "start_time": "2020-07-18T00:06:52.390937Z"
    }
   },
   "outputs": [
    {
     "name": "stdout",
     "output_type": "stream",
     "text": [
      "out_even(3): [0, 2]\n",
      "out_even(10): [0, 2, 4, 6, 8, 10]\n",
      "out_even(100): [0, 2, 4, 6, 8, 10, 12, 14, 16, 18, 20, 22, 24, 26, 28, 30, 32, 34, 36, 38, 40, 42, 44, 46, 48, 50, 52, 54, 56, 58, 60, 62, 64, 66, 68, 70, 72, 74, 76, 78, 80, 82, 84, 86, 88, 90, 92, 94, 96, 98, 100]\n"
     ]
    }
   ],
   "source": [
    "# 请在这里做题\n",
    "# def out_even(max_num):\n",
    "#     li=[]\n",
    "#     for i in range(max_num+1):\n",
    "#         if i % 2 ==0:\n",
    "#             li.append(i)\n",
    "#     return li\n",
    "\n",
    "def out_even(max_num):\n",
    "    li=[]\n",
    "    for i in range(0,max_num+1,2):\n",
    "        li.append(i)\n",
    "    return li\n",
    "#\n",
    "print(\"out_even(3):\",out_even(3))        \n",
    "print(\"out_even(10):\",out_even(10))        \n",
    "print(\"out_even(100):\",out_even(100))        \n",
    "\n",
    "        "
   ]
  },
  {
   "cell_type": "markdown",
   "metadata": {},
   "source": [
    "## 解法2\n",
    "\n",
    "---\n",
    "题目解析：\n",
    "\n",
    "* 这个题目主要练习大家对历史知识的掌控\n",
    "\n",
    "* 加深对 range 函数的理解，特别是 步长（step) 参数的理解\n",
    "  \n",
    "* 理解如何使用 list() 将  range 类型的数据转成列表\n",
    "\n",
    "---\n",
    "\n",
    "解题步骤：\n",
    "\n",
    "* 使用 def 定义一个名叫 out_even 的函数，接收一个名叫 max_num 的参数\n",
    "\n",
    "  可以使用range函数生成 0~max_num 之间的偶数集，记得要考虑range的右区间要加1\n",
    "  \n",
    "  同时为了生成偶数集，记得把第3个参数（step) 设为2，这样只生成 0~max_num之间的偶数\n",
    "\n",
    "  range 函数返回的是一个 range 类型的数据 (大家可以 print(range(1,3)), 看一下到底是什么类型的数据)\n",
    "  \n",
    "  使用 list() 把 range 类型的数据转成 列表\n",
    "    \n",
    "  最后使用 retrun 把运算结果返回。\n",
    "\n",
    "---\n",
    "资料:\n",
    "\n",
    "* [Python range() 函数用法](https://www.runoob.com/python/python-func-range.html)\n",
    "\n",
    "* [python：range函数的使用，以及将结果转列表list](https://blog.csdn.net/yeziand01/article/details/85938548)"
   ]
  },
  {
   "cell_type": "code",
   "execution_count": 23,
   "metadata": {
    "ExecuteTime": {
     "end_time": "2020-10-12T04:34:22.835659Z",
     "start_time": "2020-10-12T04:34:22.831715Z"
    }
   },
   "outputs": [
    {
     "name": "stdout",
     "output_type": "stream",
     "text": [
      "out_even(3): [0, 2]\n",
      "out_even(10): [0, 2, 4, 6, 8, 10]\n",
      "out_even(100): [0, 2, 4, 6, 8, 10, 12, 14, 16, 18, 20, 22, 24, 26, 28, 30, 32, 34, 36, 38, 40, 42, 44, 46, 48, 50, 52, 54, 56, 58, 60, 62, 64, 66, 68, 70, 72, 74, 76, 78, 80, 82, 84, 86, 88, 90, 92, 94, 96, 98, 100]\n"
     ]
    }
   ],
   "source": [
    "# 请在这里做题\n",
    "def out_even(max_num):\n",
    "    return list(range(0,max_num+1,2))\n",
    "\n",
    "#\n",
    "\n",
    "print(\"out_even(3):\",out_even(3))        \n",
    "print(\"out_even(10):\",out_even(10))        \n",
    "print(\"out_even(100):\",out_even(100)) \n"
   ]
  },
  {
   "cell_type": "markdown",
   "metadata": {},
   "source": [
    "# 致谢\n",
    "\n",
    "谢谢 Loren 对本章内容的评审，特此致谢！"
   ]
  }
 ],
 "metadata": {
  "kernelspec": {
   "display_name": ".env",
   "language": "python",
   "name": "python3"
  },
  "language_info": {
   "codemirror_mode": {
    "name": "ipython",
    "version": 3
   },
   "file_extension": ".py",
   "mimetype": "text/x-python",
   "name": "python",
   "nbconvert_exporter": "python",
   "pygments_lexer": "ipython3",
   "version": "3.9.6"
  },
  "toc": {
   "base_numbering": 1,
   "nav_menu": {},
   "number_sections": true,
   "sideBar": true,
   "skip_h1_title": false,
   "title_cell": "Table of Contents",
   "title_sidebar": "Contents",
   "toc_cell": false,
   "toc_position": {},
   "toc_section_display": true,
   "toc_window_display": true
  },
  "varInspector": {
   "cols": {
    "lenName": 16,
    "lenType": 16,
    "lenVar": 40
   },
   "kernels_config": {
    "python": {
     "delete_cmd_postfix": "",
     "delete_cmd_prefix": "del ",
     "library": "var_list.py",
     "varRefreshCmd": "print(var_dic_list())"
    },
    "r": {
     "delete_cmd_postfix": ") ",
     "delete_cmd_prefix": "rm(",
     "library": "var_list.r",
     "varRefreshCmd": "cat(var_dic_list()) "
    }
   },
   "types_to_exclude": [
    "module",
    "function",
    "builtin_function_or_method",
    "instance",
    "_Feature"
   ],
   "window_display": false
  }
 },
 "nbformat": 4,
 "nbformat_minor": 4
}
